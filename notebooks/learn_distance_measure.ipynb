{
 "cells": [
  {
   "cell_type": "code",
   "execution_count": 1,
   "metadata": {},
   "outputs": [],
   "source": [
    "import sys\n",
    "sys.path.append('/home/jiajunb/neural-dimension-reduction')"
   ]
  },
  {
   "cell_type": "code",
   "execution_count": 2,
   "metadata": {},
   "outputs": [
    {
     "data": {
      "text/plain": [
       "<torch._C.Generator at 0x7faddc084830>"
      ]
     },
     "execution_count": 2,
     "metadata": {},
     "output_type": "execute_result"
    }
   ],
   "source": [
    "import os\n",
    "\n",
    "import torch\n",
    "from torch import nn\n",
    "from torch.utils.data import DataLoader\n",
    "from torch.nn import functional as F\n",
    "from src.models.distance_modeling import SurveyorDataSet, Surveyor, thesis_kl_div_add_mse_loss\n",
    "\n",
    "import copy\n",
    "\n",
    "torch.manual_seed(0)"
   ]
  },
  {
   "cell_type": "code",
   "execution_count": 3,
   "metadata": {},
   "outputs": [
    {
     "data": {
      "application/vnd.jupyter.widget-view+json": {
       "model_id": "b0d5e41a6c994f3099bfe8e7491ba954",
       "version_major": 2,
       "version_minor": 0
      },
      "text/plain": [
       "HBox(children=(FloatProgress(value=0.0, description='create triplets', max=176.0, style=ProgressStyle(descript…"
      ]
     },
     "metadata": {},
     "output_type": "display_data"
    },
    {
     "name": "stdout",
     "output_type": "stream",
     "text": [
      "\n"
     ]
    },
    {
     "data": {
      "application/vnd.jupyter.widget-view+json": {
       "model_id": "1d0acf8e89c54865aaffa88e7c3181cb",
       "version_major": 2,
       "version_minor": 0
      },
      "text/plain": [
       "HBox(children=(FloatProgress(value=0.0, description='create triplets', max=2.0, style=ProgressStyle(descriptio…"
      ]
     },
     "metadata": {},
     "output_type": "display_data"
    },
    {
     "name": "stdout",
     "output_type": "stream",
     "text": [
      "\n"
     ]
    }
   ],
   "source": [
    "train_dataset = SurveyorDataSet.from_df('/home/jiajunb/neural-dimension-reduction/data/train.csv')\n",
    "val_dataset = SurveyorDataSet.from_df('/home/jiajunb/neural-dimension-reduction/data/dev.csv')"
   ]
  },
  {
   "cell_type": "code",
   "execution_count": 4,
   "metadata": {},
   "outputs": [],
   "source": [
    "train_loader = DataLoader(train_dataset, shuffle=True, batch_size=1000, pin_memory=True)"
   ]
  },
  {
   "cell_type": "code",
   "execution_count": 5,
   "metadata": {},
   "outputs": [],
   "source": [
    "weight_decay = 1e-5\n",
    "learning_rate = 1e-5\n",
    "num_epoches = 1200"
   ]
  },
  {
   "cell_type": "code",
   "execution_count": 6,
   "metadata": {},
   "outputs": [],
   "source": [
    "device = torch.device('cuda:0')\n",
    "model = Surveyor()\n",
    "\n",
    "\n",
    "no_decay = ['bias', 'LayerNorm.weight']\n",
    "optimizer_grouped_parameters = [\n",
    "    {'params': [p for n, p in model.named_parameters() if not any(\n",
    "        nd in n for nd in no_decay) and p.requires_grad], 'weight_decay': weight_decay},\n",
    "    {'params': [p for n, p in model.named_parameters() if any(\n",
    "        nd in n for nd in no_decay) and p.requires_grad], 'weight_decay': 0.0}\n",
    "]\n",
    "\n",
    "optimizer = torch.optim.AdamW(params=optimizer_grouped_parameters, lr=learning_rate)\n",
    "\n",
    "model = model.to(device)"
   ]
  },
  {
   "cell_type": "code",
   "execution_count": 7,
   "metadata": {},
   "outputs": [],
   "source": [
    "def train_one_epoch(train_loader, model, optimizer, verbose):\n",
    "    model = model.to(device)\n",
    "    model.train()\n",
    "    loss_sum = 0.\n",
    "    for i, batch in enumerate(train_loader):\n",
    "        x1, x2, labels, q = batch\n",
    "        x1, x2, labels, q = x1.to(device), x2.to(device), labels.to(device), q.to(device)\n",
    "        logits, p, out1, out2, loss = model(x1, x2, q, labels)\n",
    "        model.zero_grad()  # reset gradient\n",
    "        loss.backward()\n",
    "        optimizer.step()\n",
    "        loss_sum += loss.item()\n",
    "        if verbose and i % 20 == 0:\n",
    "            print(f'training loss: {loss_sum / (i + 1):.4f}')\n",
    "    return loss_sum / len(train_loader)\n",
    "\n",
    "def val_one_epoch(val_loader, model):\n",
    "    model.eval()\n",
    "    loss_fn1 = nn.CrossEntropyLoss()\n",
    "    loss_fn2 = thesis_kl_div_add_mse_loss\n",
    "    preds_list = list()\n",
    "    labels_list = list()\n",
    "    val_xentropy_loss = 0.\n",
    "    val_thesis_loss = 0.\n",
    "    with torch.no_grad():\n",
    "        for i, batch in enumerate(val_loader):\n",
    "            x1, x2, labels, q = batch\n",
    "            x1, x2, q = x1.to(device), x2.to(device), q.to(device)\n",
    "            logits, p, out1, out2 = model(x1, x2, q, labels=None)\n",
    "            preds = torch.argmax(F.softmax(logits, dim=1), dim=1)\n",
    "            preds_list.append(preds.cpu())\n",
    "            labels_list.append(labels.cpu())\n",
    "            labels = labels.to(device)\n",
    "            val_xentropy_loss += loss_fn1(logits, labels).item()\n",
    "            val_thesis_loss += loss_fn2(p, q).item()\n",
    "    y_preds = torch.cat(preds_list)\n",
    "    y_golds = torch.cat(labels_list)\n",
    "    accuracy = float((y_preds == y_golds).sum().item()) / len(y_preds)\n",
    "    return val_xentropy_loss / len(y_preds), val_thesis_loss / len(y_preds), accuracy"
   ]
  },
  {
   "cell_type": "code",
   "execution_count": 8,
   "metadata": {},
   "outputs": [],
   "source": [
    "def train_with_eval(train_loader, val_loader, model, optimizer, num_epoches, verbose):\n",
    "    best_model = None\n",
    "    best_avg_xentropy_loss, best_avg_thesis_loss, best_val_accuracy = float('inf'), float('inf'), 0. \n",
    "    for epoch_idx in range(1, num_epoches + 1):\n",
    "        avg_loss = train_one_epoch(train_loader, model, optimizer, False)\n",
    "        avg_xentropy_loss, avg_thesis_loss, val_accuracy = val_one_epoch(val_loader, model)\n",
    "        if val_accuracy >  best_val_accuracy:\n",
    "            best_avg_xentropy_loss, best_avg_thesis_loss, best_val_accuracy = avg_xentropy_loss, avg_thesis_loss, val_accuracy\n",
    "            best_model = copy.deepcopy(model.cpu())\n",
    "        if verbose and (epoch_idx) % 40 == 0:\n",
    "            print(f'epoch [{epoch_idx}]/[{num_epoches}] training loss: {avg_loss:.4f} '\n",
    "                  f'val_cross_entropy_loss: {avg_xentropy_loss:.4f} '\n",
    "                  f'val_thesis_loss: {avg_thesis_loss:.4f} '\n",
    "                  f'val_accuracy: {val_accuracy:.4f} ')\n",
    "    return best_avg_xentropy_loss, best_avg_thesis_loss, best_val_accuracy, best_model, model"
   ]
  },
  {
   "cell_type": "code",
   "execution_count": 9,
   "metadata": {},
   "outputs": [],
   "source": [
    "val_loader = DataLoader(val_dataset, shuffle=False, batch_size=1000, pin_memory=True)"
   ]
  },
  {
   "cell_type": "code",
   "execution_count": 10,
   "metadata": {
    "scrolled": true
   },
   "outputs": [
    {
     "name": "stdout",
     "output_type": "stream",
     "text": [
      "epoch [40]/[1200] training loss: -59.3671 val_cross_entropy_loss: 0.0005 val_thesis_loss: 0.0252 val_accuracy: 0.9010 \n",
      "epoch [80]/[1200] training loss: -70.9473 val_cross_entropy_loss: 0.0004 val_thesis_loss: 0.0094 val_accuracy: 0.9010 \n",
      "epoch [120]/[1200] training loss: -73.6471 val_cross_entropy_loss: 0.0004 val_thesis_loss: 0.0068 val_accuracy: 0.9010 \n",
      "epoch [160]/[1200] training loss: -74.8833 val_cross_entropy_loss: 0.0003 val_thesis_loss: 0.0064 val_accuracy: 0.9510 \n",
      "epoch [200]/[1200] training loss: -75.6874 val_cross_entropy_loss: 0.0003 val_thesis_loss: 0.0056 val_accuracy: 0.9510 \n",
      "epoch [240]/[1200] training loss: -76.1407 val_cross_entropy_loss: 0.0003 val_thesis_loss: 0.0063 val_accuracy: 1.0000 \n",
      "epoch [280]/[1200] training loss: -76.2340 val_cross_entropy_loss: 0.0003 val_thesis_loss: 0.0053 val_accuracy: 1.0000 \n",
      "epoch [320]/[1200] training loss: -76.5875 val_cross_entropy_loss: 0.0003 val_thesis_loss: 0.0059 val_accuracy: 1.0000 \n",
      "epoch [360]/[1200] training loss: -76.7465 val_cross_entropy_loss: 0.0003 val_thesis_loss: 0.0060 val_accuracy: 1.0000 \n",
      "epoch [400]/[1200] training loss: -76.8394 val_cross_entropy_loss: 0.0003 val_thesis_loss: 0.0063 val_accuracy: 1.0000 \n",
      "epoch [440]/[1200] training loss: -76.9192 val_cross_entropy_loss: 0.0003 val_thesis_loss: 0.0059 val_accuracy: 1.0000 \n",
      "epoch [480]/[1200] training loss: -77.0590 val_cross_entropy_loss: 0.0003 val_thesis_loss: 0.0049 val_accuracy: 1.0000 \n",
      "epoch [520]/[1200] training loss: -77.0968 val_cross_entropy_loss: 0.0003 val_thesis_loss: 0.0052 val_accuracy: 1.0000 \n",
      "epoch [560]/[1200] training loss: -77.2436 val_cross_entropy_loss: 0.0003 val_thesis_loss: 0.0049 val_accuracy: 1.0000 \n",
      "epoch [600]/[1200] training loss: -77.2771 val_cross_entropy_loss: 0.0003 val_thesis_loss: 0.0048 val_accuracy: 1.0000 \n",
      "epoch [640]/[1200] training loss: -77.2618 val_cross_entropy_loss: 0.0003 val_thesis_loss: 0.0062 val_accuracy: 1.0000 \n",
      "epoch [680]/[1200] training loss: -77.2467 val_cross_entropy_loss: 0.0003 val_thesis_loss: 0.0053 val_accuracy: 1.0000 \n",
      "epoch [720]/[1200] training loss: -77.3483 val_cross_entropy_loss: 0.0003 val_thesis_loss: 0.0065 val_accuracy: 1.0000 \n",
      "epoch [760]/[1200] training loss: -77.4646 val_cross_entropy_loss: 0.0003 val_thesis_loss: 0.0049 val_accuracy: 1.0000 \n",
      "epoch [800]/[1200] training loss: -77.3979 val_cross_entropy_loss: 0.0003 val_thesis_loss: 0.0055 val_accuracy: 1.0000 \n",
      "epoch [840]/[1200] training loss: -77.3953 val_cross_entropy_loss: 0.0003 val_thesis_loss: 0.0050 val_accuracy: 1.0000 \n",
      "epoch [880]/[1200] training loss: -77.4443 val_cross_entropy_loss: 0.0003 val_thesis_loss: 0.0058 val_accuracy: 0.9510 \n",
      "epoch [920]/[1200] training loss: -77.4785 val_cross_entropy_loss: 0.0003 val_thesis_loss: 0.0059 val_accuracy: 0.9510 \n",
      "epoch [960]/[1200] training loss: -77.4735 val_cross_entropy_loss: 0.0003 val_thesis_loss: 0.0062 val_accuracy: 0.9510 \n",
      "epoch [1000]/[1200] training loss: -77.5479 val_cross_entropy_loss: 0.0003 val_thesis_loss: 0.0061 val_accuracy: 0.9510 \n",
      "epoch [1040]/[1200] training loss: -77.5441 val_cross_entropy_loss: 0.0003 val_thesis_loss: 0.0060 val_accuracy: 0.9510 \n",
      "epoch [1080]/[1200] training loss: -77.5718 val_cross_entropy_loss: 0.0004 val_thesis_loss: 0.0058 val_accuracy: 0.9510 \n",
      "epoch [1120]/[1200] training loss: -77.5258 val_cross_entropy_loss: 0.0003 val_thesis_loss: 0.0056 val_accuracy: 0.9510 \n",
      "epoch [1160]/[1200] training loss: -77.5719 val_cross_entropy_loss: 0.0004 val_thesis_loss: 0.0052 val_accuracy: 0.9510 \n",
      "epoch [1200]/[1200] training loss: -77.4860 val_cross_entropy_loss: 0.0003 val_thesis_loss: 0.0053 val_accuracy: 0.9510 \n"
     ]
    }
   ],
   "source": [
    "best_avg_xentropy_loss, best_avg_thesis_loss, best_val_accuracy, best_model, final_model = train_with_eval(train_loader, val_loader, model, optimizer, num_epoches, True)\n"
   ]
  },
  {
   "cell_type": "code",
   "execution_count": 14,
   "metadata": {},
   "outputs": [
    {
     "data": {
      "text/plain": [
       "(0.0003306915611028671, 0.00602264928817749, 1.0)"
      ]
     },
     "execution_count": 14,
     "metadata": {},
     "output_type": "execute_result"
    }
   ],
   "source": [
    "best_avg_xentropy_loss, best_avg_thesis_loss, best_val_accuracy"
   ]
  },
  {
   "cell_type": "code",
   "execution_count": 15,
   "metadata": {},
   "outputs": [],
   "source": [
    "torch.save({\n",
    "    \"best_model\": best_model.state_dict(),\n",
    "    \"best_avg_xentropy_loss\": best_avg_xentropy_loss,\n",
    "    \"best_avg_thesis_loss\": best_avg_thesis_loss, \n",
    "    \"best_val_accuracy\": best_val_accuracy\n",
    "}, '../saves/surveyor.on.full.100')"
   ]
  },
  {
   "cell_type": "code",
   "execution_count": 12,
   "metadata": {},
   "outputs": [],
   "source": [
    "# os.makedirs('checkpoints')"
   ]
  }
 ],
 "metadata": {
  "kernelspec": {
   "display_name": "Python 3",
   "language": "python",
   "name": "python3"
  },
  "language_info": {
   "codemirror_mode": {
    "name": "ipython",
    "version": 3
   },
   "file_extension": ".py",
   "mimetype": "text/x-python",
   "name": "python",
   "nbconvert_exporter": "python",
   "pygments_lexer": "ipython3",
   "version": "3.7.7"
  }
 },
 "nbformat": 4,
 "nbformat_minor": 4
}
