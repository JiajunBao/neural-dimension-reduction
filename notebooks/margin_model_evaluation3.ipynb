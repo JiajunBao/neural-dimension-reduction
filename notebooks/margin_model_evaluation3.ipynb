{
 "cells": [
  {
   "cell_type": "code",
   "execution_count": 1,
   "metadata": {},
   "outputs": [],
   "source": [
    "import torch\n",
    "import pandas as pd\n",
    "from src.models.level_kv_div import binaryTrainer, utils, network\n",
    "from sklearn.metrics import classification_report"
   ]
  },
  {
   "cell_type": "code",
   "execution_count": 2,
   "metadata": {},
   "outputs": [],
   "source": [
    "x = torch.from_numpy(pd.read_csv('../data/dev.csv', header=None).to_numpy()).float()"
   ]
  },
  {
   "cell_type": "code",
   "execution_count": 3,
   "metadata": {},
   "outputs": [],
   "source": [
    "model = torch.load('margin_model.pth.tar')"
   ]
  },
  {
   "cell_type": "code",
   "execution_count": 4,
   "metadata": {},
   "outputs": [
    {
     "data": {
      "application/vnd.jupyter.widget-view+json": {
       "model_id": "68260c08e4804f87a1e6f1f91f502fe0",
       "version_major": 2,
       "version_minor": 0
      },
      "text/plain": [
       "HBox(children=(FloatProgress(value=0.0, max=2.0), HTML(value='')))"
      ]
     },
     "metadata": {},
     "output_type": "display_data"
    },
    {
     "name": "stdout",
     "output_type": "stream",
     "text": [
      "\n",
      "pred_dist is cached!\n"
     ]
    }
   ],
   "source": [
    "loss_param = 1, 3, 4, 6\n",
    "k = 100\n",
    "(margin_res, margin_measure_confusion), (linear_search_res, linear_search_confusion), (pred_dist) = binaryTrainer.evaluate_results(x, model, k, loss_param, cache_dist=True)"
   ]
  },
  {
   "cell_type": "code",
   "execution_count": 5,
   "metadata": {
    "scrolled": true
   },
   "outputs": [
    {
     "data": {
      "application/vnd.jupyter.widget-view+json": {
       "model_id": "1abe83507a6949a08770b4a9670fa779",
       "version_major": 2,
       "version_minor": 0
      },
      "text/plain": [
       "HBox(children=(FloatProgress(value=0.0, max=1000.0), HTML(value='')))"
      ]
     },
     "metadata": {},
     "output_type": "display_data"
    },
    {
     "name": "stdout",
     "output_type": "stream",
     "text": [
      "\n"
     ]
    }
   ],
   "source": [
    "pred_grade_level = utils.grade_from_dist(pred_dist[0], 100)"
   ]
  },
  {
   "cell_type": "code",
   "execution_count": 6,
   "metadata": {},
   "outputs": [
    {
     "data": {
      "application/vnd.jupyter.widget-view+json": {
       "model_id": "e2238b6788684400b3d534989ebb8fe6",
       "version_major": 2,
       "version_minor": 0
      },
      "text/plain": [
       "HBox(children=(FloatProgress(value=0.0, max=1000.0), HTML(value='')))"
      ]
     },
     "metadata": {},
     "output_type": "display_data"
    },
    {
     "name": "stdout",
     "output_type": "stream",
     "text": [
      "\n"
     ]
    }
   ],
   "source": [
    "gold_grade_level = utils.grade_from_small_x(x, 100)"
   ]
  },
  {
   "cell_type": "code",
   "execution_count": 7,
   "metadata": {
    "scrolled": false
   },
   "outputs": [
    {
     "name": "stdout",
     "output_type": "stream",
     "text": [
      "              precision    recall  f1-score   support\n",
      "\n",
      "          -1       0.92      0.91      0.92     92624\n",
      "           0       0.05      0.05      0.05      8376\n",
      "           1       0.99      0.99      0.99    899000\n",
      "\n",
      "    accuracy                           0.97   1000000\n",
      "   macro avg       0.65      0.65      0.65   1000000\n",
      "weighted avg       0.97      0.97      0.97   1000000\n",
      "\n"
     ]
    }
   ],
   "source": [
    "print(classification_report(y_pred=pred_grade_level.view(-1).numpy(), y_true=gold_grade_level.view(-1).numpy()))"
   ]
  },
  {
   "cell_type": "code",
   "execution_count": 8,
   "metadata": {},
   "outputs": [
    {
     "data": {
      "text/plain": [
       "{'accuracy': 0.966036,\n",
       " 'recall': 0.9495445544554455,\n",
       " 'precision': 0.7686339883948322,\n",
       " 'f1-score': 0.8495650479244549}"
      ]
     },
     "execution_count": 8,
     "metadata": {},
     "output_type": "execute_result"
    }
   ],
   "source": [
    "margin_res"
   ]
  },
  {
   "cell_type": "code",
   "execution_count": 9,
   "metadata": {},
   "outputs": [
    {
     "data": {
      "text/plain": [
       "{'tp': 95904, 'tn': 870132, 'fp': 28868, 'fn': 5096}"
      ]
     },
     "execution_count": 9,
     "metadata": {},
     "output_type": "execute_result"
    }
   ],
   "source": [
    "margin_measure_confusion"
   ]
  },
  {
   "cell_type": "code",
   "execution_count": 10,
   "metadata": {},
   "outputs": [
    {
     "data": {
      "text/plain": [
       "{'accuracy': 0.979536,\n",
       " 'recall': 0.8986930693069307,\n",
       " 'precision': 0.8986930693069307,\n",
       " 'f1-score': 0.8986930693069307}"
      ]
     },
     "execution_count": 10,
     "metadata": {},
     "output_type": "execute_result"
    }
   ],
   "source": [
    "linear_search_res"
   ]
  },
  {
   "cell_type": "code",
   "execution_count": 11,
   "metadata": {},
   "outputs": [
    {
     "data": {
      "text/plain": [
       "{'tp': 90768, 'tn': 888768, 'fp': 10232, 'fn': 10232}"
      ]
     },
     "execution_count": 11,
     "metadata": {},
     "output_type": "execute_result"
    }
   ],
   "source": [
    "linear_search_confusion"
   ]
  },
  {
   "cell_type": "code",
   "execution_count": 12,
   "metadata": {},
   "outputs": [
    {
     "data": {
      "text/plain": [
       "(tensor([[0.0000e+00, 1.0368e-01, 7.7179e+00,  ..., 7.7188e+00, 7.2415e+00,\n",
       "          7.2377e+00],\n",
       "         [1.0368e-01, 0.0000e+00, 7.7680e+00,  ..., 7.7689e+00, 7.2847e+00,\n",
       "          7.2808e+00],\n",
       "         [7.7179e+00, 7.7680e+00, 0.0000e+00,  ..., 5.5312e-02, 2.6037e+00,\n",
       "          2.6349e+00],\n",
       "         ...,\n",
       "         [7.7188e+00, 7.7689e+00, 5.5312e-02,  ..., 1.3811e-03, 2.6328e+00,\n",
       "          2.6638e+00],\n",
       "         [7.2415e+00, 7.2847e+00, 2.6037e+00,  ..., 2.6328e+00, 0.0000e+00,\n",
       "          3.4458e-02],\n",
       "         [7.2377e+00, 7.2808e+00, 2.6349e+00,  ..., 2.6638e+00, 3.4458e-02,\n",
       "          1.3811e-03]]),)"
      ]
     },
     "execution_count": 12,
     "metadata": {},
     "output_type": "execute_result"
    }
   ],
   "source": [
    "pred_dist"
   ]
  },
  {
   "cell_type": "code",
   "execution_count": null,
   "metadata": {},
   "outputs": [],
   "source": []
  }
 ],
 "metadata": {
  "kernelspec": {
   "display_name": "Python 3",
   "language": "python",
   "name": "python3"
  },
  "language_info": {
   "codemirror_mode": {
    "name": "ipython",
    "version": 3
   },
   "file_extension": ".py",
   "mimetype": "text/x-python",
   "name": "python",
   "nbconvert_exporter": "python",
   "pygments_lexer": "ipython3",
   "version": "3.7.7"
  }
 },
 "nbformat": 4,
 "nbformat_minor": 4
}
