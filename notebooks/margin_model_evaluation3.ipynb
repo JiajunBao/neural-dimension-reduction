{
 "cells": [
  {
   "cell_type": "code",
   "execution_count": 1,
   "metadata": {},
   "outputs": [],
   "source": [
    "import torch\n",
    "import pandas as pd\n",
    "from src.models.level_kv_div import binaryTrainer, utils, network\n",
    "from sklearn.metrics import classification_report"
   ]
  },
  {
   "cell_type": "code",
   "execution_count": 2,
   "metadata": {},
   "outputs": [],
   "source": [
    "x = torch.from_numpy(pd.read_csv('../data/processed/sample/dev.csv', header=None).to_numpy()).float()"
   ]
  },
  {
   "cell_type": "code",
   "execution_count": 3,
   "metadata": {},
   "outputs": [],
   "source": [
    "model = torch.load('margin_model.pth.tar')"
   ]
  },
  {
   "cell_type": "code",
   "execution_count": 4,
   "metadata": {},
   "outputs": [
    {
     "data": {
      "application/vnd.jupyter.widget-view+json": {
       "model_id": "f78ce0649aad472b88133cee1daa0351",
       "version_major": 2,
       "version_minor": 0
      },
      "text/plain": [
       "HBox(children=(FloatProgress(value=0.0, max=2.0), HTML(value='')))"
      ]
     },
     "metadata": {},
     "output_type": "display_data"
    },
    {
     "name": "stdout",
     "output_type": "stream",
     "text": [
      "\n",
      "pred_dist is cached!\n"
     ]
    }
   ],
   "source": [
    "loss_param = 1, 3, 4, 6\n",
    "k = 100\n",
    "(margin_res, margin_measure_confusion), (linear_search_res, linear_search_confusion), (pred_dist) = binaryTrainer.evaluate_results(x, model, k, loss_param, cache_dist=True)"
   ]
  },
  {
   "cell_type": "code",
   "execution_count": 5,
   "metadata": {
    "scrolled": true
   },
   "outputs": [
    {
     "data": {
      "application/vnd.jupyter.widget-view+json": {
       "model_id": "d33b202a77d84d88a8a7019c4b12bc38",
       "version_major": 2,
       "version_minor": 0
      },
      "text/plain": [
       "HBox(children=(FloatProgress(value=0.0, max=666.0), HTML(value='')))"
      ]
     },
     "metadata": {},
     "output_type": "display_data"
    },
    {
     "name": "stdout",
     "output_type": "stream",
     "text": [
      "\n"
     ]
    }
   ],
   "source": [
    "pred_grade_level = utils.grade_from_dist(pred_dist[0], 100)"
   ]
  },
  {
   "cell_type": "code",
   "execution_count": 6,
   "metadata": {},
   "outputs": [
    {
     "data": {
      "application/vnd.jupyter.widget-view+json": {
       "model_id": "278f1bc40de84eae82f1c587033b8950",
       "version_major": 2,
       "version_minor": 0
      },
      "text/plain": [
       "HBox(children=(FloatProgress(value=0.0, max=666.0), HTML(value='')))"
      ]
     },
     "metadata": {},
     "output_type": "display_data"
    },
    {
     "name": "stdout",
     "output_type": "stream",
     "text": [
      "\n"
     ]
    }
   ],
   "source": [
    "gold_grade_level = utils.grade_from_small_x(x, 100)"
   ]
  },
  {
   "cell_type": "code",
   "execution_count": 7,
   "metadata": {
    "scrolled": true
   },
   "outputs": [
    {
     "name": "stdout",
     "output_type": "stream",
     "text": [
      "              precision    recall  f1-score   support\n",
      "\n",
      "          -1       0.92      0.87      0.89     51636\n",
      "           0       0.00      0.00      0.00     15630\n",
      "           1       0.94      0.94      0.94    376290\n",
      "\n",
      "    accuracy                           0.90    443556\n",
      "   macro avg       0.62      0.60      0.61    443556\n",
      "weighted avg       0.91      0.90      0.90    443556\n",
      "\n"
     ]
    }
   ],
   "source": [
    "print(classification_report(y_pred=pred_grade_level.view(-1).numpy(), y_true=gold_grade_level.view(-1).numpy()))"
   ]
  },
  {
   "cell_type": "code",
   "execution_count": 8,
   "metadata": {},
   "outputs": [
    {
     "data": {
      "text/plain": [
       "{'accuracy': 0.8992686380073768,\n",
       " 'recall': 0.6678857074896679,\n",
       " 'precision': 0.6678857074896679,\n",
       " 'f1-score': 0.6678857074896679}"
      ]
     },
     "execution_count": 8,
     "metadata": {},
     "output_type": "execute_result"
    }
   ],
   "source": [
    "linear_search_res"
   ]
  },
  {
   "cell_type": "code",
   "execution_count": 9,
   "metadata": {},
   "outputs": [
    {
     "data": {
      "text/plain": [
       "{'tp': 44876, 'tn': 369792, 'fp': 6498, 'fn': 22390}"
      ]
     },
     "execution_count": 9,
     "metadata": {},
     "output_type": "execute_result"
    }
   ],
   "source": [
    "margin_measure_confusion"
   ]
  },
  {
   "cell_type": "code",
   "execution_count": 10,
   "metadata": {},
   "outputs": [
    {
     "data": {
      "text/plain": [
       "{'tp': 44926, 'tn': 353950, 'fp': 22340, 'fn': 22340}"
      ]
     },
     "execution_count": 10,
     "metadata": {},
     "output_type": "execute_result"
    }
   ],
   "source": [
    "linear_search_confusion"
   ]
  },
  {
   "cell_type": "code",
   "execution_count": 11,
   "metadata": {},
   "outputs": [
    {
     "data": {
      "text/plain": [
       "(tensor([[0.0000e+00, 4.9563e+00, 6.3292e+00,  ..., 6.6211e+00, 6.7270e+00,\n",
       "          6.6205e+00],\n",
       "         [4.9563e+00, 0.0000e+00, 4.5390e+00,  ..., 5.6154e+00, 5.9527e+00,\n",
       "          5.6170e+00],\n",
       "         [6.3292e+00, 4.5390e+00, 0.0000e+00,  ..., 2.5833e+00, 5.6906e+00,\n",
       "          2.6019e+00],\n",
       "         ...,\n",
       "         [6.6211e+00, 5.6154e+00, 2.5833e+00,  ..., 0.0000e+00, 5.6001e+00,\n",
       "          2.4395e-02],\n",
       "         [6.7270e+00, 5.9527e+00, 5.6906e+00,  ..., 5.6001e+00, 1.9531e-03,\n",
       "          5.5972e+00],\n",
       "         [6.6205e+00, 5.6170e+00, 2.6019e+00,  ..., 2.4395e-02, 5.5972e+00,\n",
       "          0.0000e+00]]),)"
      ]
     },
     "execution_count": 11,
     "metadata": {},
     "output_type": "execute_result"
    }
   ],
   "source": [
    "pred_dist"
   ]
  },
  {
   "cell_type": "code",
   "execution_count": null,
   "metadata": {},
   "outputs": [],
   "source": []
  }
 ],
 "metadata": {
  "kernelspec": {
   "display_name": "Python 3",
   "language": "python",
   "name": "python3"
  },
  "language_info": {
   "codemirror_mode": {
    "name": "ipython",
    "version": 3
   },
   "file_extension": ".py",
   "mimetype": "text/x-python",
   "name": "python",
   "nbconvert_exporter": "python",
   "pygments_lexer": "ipython3",
   "version": "3.7.7"
  }
 },
 "nbformat": 4,
 "nbformat_minor": 4
}
