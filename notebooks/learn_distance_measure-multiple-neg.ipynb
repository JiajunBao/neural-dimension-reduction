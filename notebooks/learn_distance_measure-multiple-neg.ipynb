{
 "cells": [
  {
   "cell_type": "code",
   "execution_count": 1,
   "metadata": {},
   "outputs": [],
   "source": [
    "import sys\n",
    "sys.path.append('/home/jiajunb/neural-dimension-reduction')"
   ]
  },
  {
   "cell_type": "code",
   "execution_count": 2,
   "metadata": {},
   "outputs": [
    {
     "data": {
      "text/plain": [
       "<torch._C.Generator at 0x7f4b210f0850>"
      ]
     },
     "execution_count": 2,
     "metadata": {},
     "output_type": "execute_result"
    }
   ],
   "source": [
    "import os\n",
    "\n",
    "import torch\n",
    "from torch import nn\n",
    "from torch.utils.data import DataLoader\n",
    "from torch.nn import functional as F\n",
    "from src.models.distance_modeling import SurveyorDataSet, Surveyor, thesis_kl_div_add_mse_loss\n",
    "\n",
    "import copy\n",
    "\n",
    "torch.manual_seed(0)"
   ]
  },
  {
   "cell_type": "code",
   "execution_count": 3,
   "metadata": {},
   "outputs": [
    {
     "data": {
      "application/vnd.jupyter.widget-view+json": {
       "model_id": "65a071528b04438d9b45719a474e0527",
       "version_major": 2,
       "version_minor": 0
      },
      "text/plain": [
       "HBox(children=(FloatProgress(value=0.0, description='create triplets', max=176.0, style=ProgressStyle(descript…"
      ]
     },
     "metadata": {},
     "output_type": "display_data"
    },
    {
     "name": "stdout",
     "output_type": "stream",
     "text": [
      "\n"
     ]
    },
    {
     "data": {
      "application/vnd.jupyter.widget-view+json": {
       "model_id": "fa8abd132a994c9e8e6ce608b1d36004",
       "version_major": 2,
       "version_minor": 0
      },
      "text/plain": [
       "HBox(children=(FloatProgress(value=0.0, description='create triplets', max=2.0, style=ProgressStyle(descriptio…"
      ]
     },
     "metadata": {},
     "output_type": "display_data"
    },
    {
     "name": "stdout",
     "output_type": "stream",
     "text": [
      "\n"
     ]
    }
   ],
   "source": [
    "train_dataset = SurveyorDataSet.from_df('/home/jiajunb/neural-dimension-reduction/data/train.csv')\n",
    "val_dataset = SurveyorDataSet.from_df('/home/jiajunb/neural-dimension-reduction/data/dev.csv')"
   ]
  },
  {
   "cell_type": "code",
   "execution_count": 4,
   "metadata": {},
   "outputs": [],
   "source": [
    "train_loader = DataLoader(train_dataset, shuffle=True, batch_size=1000, pin_memory=True)"
   ]
  },
  {
   "cell_type": "code",
   "execution_count": 5,
   "metadata": {},
   "outputs": [],
   "source": [
    "weight_decay = 1e-5\n",
    "learning_rate = 1e-5\n",
    "num_epoches = 400"
   ]
  },
  {
   "cell_type": "code",
   "execution_count": 6,
   "metadata": {},
   "outputs": [],
   "source": [
    "device = torch.device('cuda:1')\n",
    "model = Surveyor()\n",
    "\n",
    "\n",
    "no_decay = ['bias', 'LayerNorm.weight']\n",
    "optimizer_grouped_parameters = [\n",
    "    {'params': [p for n, p in model.named_parameters() if not any(\n",
    "        nd in n for nd in no_decay) and p.requires_grad], 'weight_decay': weight_decay},\n",
    "    {'params': [p for n, p in model.named_parameters() if any(\n",
    "        nd in n for nd in no_decay) and p.requires_grad], 'weight_decay': 0.0}\n",
    "]\n",
    "\n",
    "optimizer = torch.optim.AdamW(params=optimizer_grouped_parameters, lr=learning_rate)\n",
    "\n",
    "model = model.to(device)"
   ]
  },
  {
   "cell_type": "code",
   "execution_count": 7,
   "metadata": {},
   "outputs": [],
   "source": [
    "def train_one_epoch(train_loader, model, optimizer, verbose):\n",
    "    model = model.to(device)\n",
    "    model.train()\n",
    "    loss_sum = 0.\n",
    "    for i, batch in enumerate(train_loader):\n",
    "        x1, x2, labels, q = batch\n",
    "        x1, x2, labels, q = x1.to(device), x2.to(device), labels.to(device), q.to(device)\n",
    "        logits, p, out1, out2, loss = model(x1, x2, q, labels)\n",
    "        model.zero_grad()  # reset gradient\n",
    "        loss.backward()\n",
    "        optimizer.step()\n",
    "        loss_sum += loss.item()\n",
    "        if verbose and i % 20 == 0:\n",
    "            print(f'training loss: {loss_sum / (i + 1):.4f}')\n",
    "    return loss_sum / len(train_loader)\n",
    "\n",
    "def val_one_epoch(val_loader, model):\n",
    "    model.eval()\n",
    "    loss_fn1 = nn.CrossEntropyLoss()\n",
    "    loss_fn2 = thesis_kl_div_add_mse_loss\n",
    "    preds_list = list()\n",
    "    labels_list = list()\n",
    "    val_xentropy_loss = 0.\n",
    "    val_thesis_loss = 0.\n",
    "    with torch.no_grad():\n",
    "        for i, batch in enumerate(val_loader):\n",
    "            x1, x2, labels, q = batch\n",
    "            x1, x2, q = x1.to(device), x2.to(device), q.to(device)\n",
    "            logits, p, out1, out2 = model(x1, x2, q, labels=None)\n",
    "            preds = torch.argmax(F.softmax(logits, dim=1), dim=1)\n",
    "            preds_list.append(preds.cpu())\n",
    "            labels_list.append(labels.cpu())\n",
    "            labels = labels.to(device)\n",
    "            val_xentropy_loss += loss_fn1(logits, labels).item()\n",
    "            val_thesis_loss += loss_fn2(p, q).item()\n",
    "    y_preds = torch.cat(preds_list)\n",
    "    y_golds = torch.cat(labels_list)\n",
    "    accuracy = float((y_preds == y_golds).sum().item()) / len(y_preds)\n",
    "    return val_xentropy_loss / len(y_preds), val_thesis_loss / len(y_preds), accuracy"
   ]
  },
  {
   "cell_type": "code",
   "execution_count": 8,
   "metadata": {},
   "outputs": [],
   "source": [
    "def train_with_eval(train_loader, val_loader, model, optimizer, num_epoches, verbose):\n",
    "    best_model = None\n",
    "    best_avg_xentropy_loss, best_avg_thesis_loss, best_val_accuracy = float('inf'), float('inf'), 0. \n",
    "    for epoch_idx in range(1, num_epoches + 1):\n",
    "        avg_loss = train_one_epoch(train_loader, model, optimizer, False)\n",
    "        avg_xentropy_loss, avg_thesis_loss, val_accuracy = val_one_epoch(val_loader, model)\n",
    "        if val_accuracy >  best_val_accuracy:\n",
    "            best_avg_xentropy_loss, best_avg_thesis_loss, best_val_accuracy = avg_xentropy_loss, avg_thesis_loss, val_accuracy\n",
    "            best_model = copy.deepcopy(model.cpu())\n",
    "        if verbose and (epoch_idx) % 5 == 0:\n",
    "            print(f'epoch [{epoch_idx}]/[{num_epoches}] training loss: {avg_loss:.4f} '\n",
    "                  f'val_cross_entropy_loss: {avg_xentropy_loss:.4f} '\n",
    "                  f'val_thesis_loss: {avg_thesis_loss:.4f} '\n",
    "                  f'val_accuracy: {val_accuracy:.4f} ')\n",
    "    return best_avg_xentropy_loss, best_avg_thesis_loss, best_val_accuracy, best_model, model"
   ]
  },
  {
   "cell_type": "code",
   "execution_count": 9,
   "metadata": {},
   "outputs": [],
   "source": [
    "val_loader = DataLoader(val_dataset, shuffle=False, batch_size=1000, pin_memory=True)"
   ]
  },
  {
   "cell_type": "code",
   "execution_count": 10,
   "metadata": {},
   "outputs": [],
   "source": [
    "x1, x2, labels, q = train_loader.dataset[0]"
   ]
  },
  {
   "cell_type": "code",
   "execution_count": 11,
   "metadata": {
    "scrolled": true
   },
   "outputs": [
    {
     "data": {
      "text/plain": [
       "torch.Size([200])"
      ]
     },
     "execution_count": 11,
     "metadata": {},
     "output_type": "execute_result"
    }
   ],
   "source": [
    "x1.shape"
   ]
  },
  {
   "cell_type": "code",
   "execution_count": 12,
   "metadata": {},
   "outputs": [
    {
     "data": {
      "text/plain": [
       "torch.Size([200])"
      ]
     },
     "execution_count": 12,
     "metadata": {},
     "output_type": "execute_result"
    }
   ],
   "source": [
    "x2.shape"
   ]
  },
  {
   "cell_type": "code",
   "execution_count": 13,
   "metadata": {},
   "outputs": [
    {
     "data": {
      "text/plain": [
       "tensor(1)"
      ]
     },
     "execution_count": 13,
     "metadata": {},
     "output_type": "execute_result"
    }
   ],
   "source": [
    "labels"
   ]
  },
  {
   "cell_type": "code",
   "execution_count": 14,
   "metadata": {},
   "outputs": [
    {
     "data": {
      "text/plain": [
       "tensor(0.9715)"
      ]
     },
     "execution_count": 14,
     "metadata": {},
     "output_type": "execute_result"
    }
   ],
   "source": [
    "q"
   ]
  },
  {
   "cell_type": "code",
   "execution_count": 15,
   "metadata": {
    "scrolled": false
   },
   "outputs": [
    {
     "name": "stdout",
     "output_type": "stream",
     "text": [
      "epoch [5]/[400] training loss: 3.7641 val_cross_entropy_loss: 0.0007 val_thesis_loss: 0.0669 val_accuracy: 0.6545 \n",
      "epoch [10]/[400] training loss: -17.2008 val_cross_entropy_loss: 0.0006 val_thesis_loss: 0.0589 val_accuracy: 0.7505 \n",
      "epoch [15]/[400] training loss: -29.6921 val_cross_entropy_loss: 0.0006 val_thesis_loss: 0.0491 val_accuracy: 0.8920 \n",
      "epoch [20]/[400] training loss: -39.1274 val_cross_entropy_loss: 0.0005 val_thesis_loss: 0.0448 val_accuracy: 0.8915 \n",
      "epoch [25]/[400] training loss: -46.4060 val_cross_entropy_loss: 0.0005 val_thesis_loss: 0.0383 val_accuracy: 0.9370 \n",
      "epoch [30]/[400] training loss: -51.5502 val_cross_entropy_loss: 0.0005 val_thesis_loss: 0.0321 val_accuracy: 0.9040 \n",
      "epoch [35]/[400] training loss: -55.9190 val_cross_entropy_loss: 0.0005 val_thesis_loss: 0.0291 val_accuracy: 0.9010 \n",
      "epoch [40]/[400] training loss: -59.3671 val_cross_entropy_loss: 0.0005 val_thesis_loss: 0.0252 val_accuracy: 0.9010 \n",
      "epoch [45]/[400] training loss: -61.8823 val_cross_entropy_loss: 0.0004 val_thesis_loss: 0.0217 val_accuracy: 0.9010 \n"
     ]
    },
    {
     "ename": "KeyboardInterrupt",
     "evalue": "",
     "output_type": "error",
     "traceback": [
      "\u001b[0;31m---------------------------------------------------------------------------\u001b[0m",
      "\u001b[0;31mKeyboardInterrupt\u001b[0m                         Traceback (most recent call last)",
      "\u001b[0;32m<ipython-input-15-3fc5986f7b0b>\u001b[0m in \u001b[0;36m<module>\u001b[0;34m\u001b[0m\n\u001b[0;32m----> 1\u001b[0;31m \u001b[0mbest_avg_xentropy_loss\u001b[0m\u001b[0;34m,\u001b[0m \u001b[0mbest_avg_thesis_loss\u001b[0m\u001b[0;34m,\u001b[0m \u001b[0mbest_val_accuracy\u001b[0m\u001b[0;34m,\u001b[0m \u001b[0mbest_model\u001b[0m\u001b[0;34m,\u001b[0m \u001b[0mfinal_model\u001b[0m \u001b[0;34m=\u001b[0m \u001b[0mtrain_with_eval\u001b[0m\u001b[0;34m(\u001b[0m\u001b[0mtrain_loader\u001b[0m\u001b[0;34m,\u001b[0m \u001b[0mval_loader\u001b[0m\u001b[0;34m,\u001b[0m \u001b[0mmodel\u001b[0m\u001b[0;34m,\u001b[0m \u001b[0moptimizer\u001b[0m\u001b[0;34m,\u001b[0m \u001b[0mnum_epoches\u001b[0m\u001b[0;34m,\u001b[0m \u001b[0;32mTrue\u001b[0m\u001b[0;34m)\u001b[0m\u001b[0;34m\u001b[0m\u001b[0;34m\u001b[0m\u001b[0m\n\u001b[0m",
      "\u001b[0;32m<ipython-input-8-371405cebe35>\u001b[0m in \u001b[0;36mtrain_with_eval\u001b[0;34m(train_loader, val_loader, model, optimizer, num_epoches, verbose)\u001b[0m\n\u001b[1;32m      3\u001b[0m     \u001b[0mbest_avg_xentropy_loss\u001b[0m\u001b[0;34m,\u001b[0m \u001b[0mbest_avg_thesis_loss\u001b[0m\u001b[0;34m,\u001b[0m \u001b[0mbest_val_accuracy\u001b[0m \u001b[0;34m=\u001b[0m \u001b[0mfloat\u001b[0m\u001b[0;34m(\u001b[0m\u001b[0;34m'inf'\u001b[0m\u001b[0;34m)\u001b[0m\u001b[0;34m,\u001b[0m \u001b[0mfloat\u001b[0m\u001b[0;34m(\u001b[0m\u001b[0;34m'inf'\u001b[0m\u001b[0;34m)\u001b[0m\u001b[0;34m,\u001b[0m \u001b[0;36m0.\u001b[0m\u001b[0;34m\u001b[0m\u001b[0;34m\u001b[0m\u001b[0m\n\u001b[1;32m      4\u001b[0m     \u001b[0;32mfor\u001b[0m \u001b[0mepoch_idx\u001b[0m \u001b[0;32min\u001b[0m \u001b[0mrange\u001b[0m\u001b[0;34m(\u001b[0m\u001b[0;36m1\u001b[0m\u001b[0;34m,\u001b[0m \u001b[0mnum_epoches\u001b[0m \u001b[0;34m+\u001b[0m \u001b[0;36m1\u001b[0m\u001b[0;34m)\u001b[0m\u001b[0;34m:\u001b[0m\u001b[0;34m\u001b[0m\u001b[0;34m\u001b[0m\u001b[0m\n\u001b[0;32m----> 5\u001b[0;31m         \u001b[0mavg_loss\u001b[0m \u001b[0;34m=\u001b[0m \u001b[0mtrain_one_epoch\u001b[0m\u001b[0;34m(\u001b[0m\u001b[0mtrain_loader\u001b[0m\u001b[0;34m,\u001b[0m \u001b[0mmodel\u001b[0m\u001b[0;34m,\u001b[0m \u001b[0moptimizer\u001b[0m\u001b[0;34m,\u001b[0m \u001b[0;32mFalse\u001b[0m\u001b[0;34m)\u001b[0m\u001b[0;34m\u001b[0m\u001b[0;34m\u001b[0m\u001b[0m\n\u001b[0m\u001b[1;32m      6\u001b[0m         \u001b[0mavg_xentropy_loss\u001b[0m\u001b[0;34m,\u001b[0m \u001b[0mavg_thesis_loss\u001b[0m\u001b[0;34m,\u001b[0m \u001b[0mval_accuracy\u001b[0m \u001b[0;34m=\u001b[0m \u001b[0mval_one_epoch\u001b[0m\u001b[0;34m(\u001b[0m\u001b[0mval_loader\u001b[0m\u001b[0;34m,\u001b[0m \u001b[0mmodel\u001b[0m\u001b[0;34m)\u001b[0m\u001b[0;34m\u001b[0m\u001b[0;34m\u001b[0m\u001b[0m\n\u001b[1;32m      7\u001b[0m         \u001b[0;32mif\u001b[0m \u001b[0mval_accuracy\u001b[0m \u001b[0;34m>\u001b[0m  \u001b[0mbest_val_accuracy\u001b[0m\u001b[0;34m:\u001b[0m\u001b[0;34m\u001b[0m\u001b[0;34m\u001b[0m\u001b[0m\n",
      "\u001b[0;32m<ipython-input-7-ddad3936e873>\u001b[0m in \u001b[0;36mtrain_one_epoch\u001b[0;34m(train_loader, model, optimizer, verbose)\u001b[0m\n\u001b[1;32m     10\u001b[0m         \u001b[0mloss\u001b[0m\u001b[0;34m.\u001b[0m\u001b[0mbackward\u001b[0m\u001b[0;34m(\u001b[0m\u001b[0;34m)\u001b[0m\u001b[0;34m\u001b[0m\u001b[0;34m\u001b[0m\u001b[0m\n\u001b[1;32m     11\u001b[0m         \u001b[0moptimizer\u001b[0m\u001b[0;34m.\u001b[0m\u001b[0mstep\u001b[0m\u001b[0;34m(\u001b[0m\u001b[0;34m)\u001b[0m\u001b[0;34m\u001b[0m\u001b[0;34m\u001b[0m\u001b[0m\n\u001b[0;32m---> 12\u001b[0;31m         \u001b[0mloss_sum\u001b[0m \u001b[0;34m+=\u001b[0m \u001b[0mloss\u001b[0m\u001b[0;34m.\u001b[0m\u001b[0mitem\u001b[0m\u001b[0;34m(\u001b[0m\u001b[0;34m)\u001b[0m\u001b[0;34m\u001b[0m\u001b[0;34m\u001b[0m\u001b[0m\n\u001b[0m\u001b[1;32m     13\u001b[0m         \u001b[0;32mif\u001b[0m \u001b[0mverbose\u001b[0m \u001b[0;32mand\u001b[0m \u001b[0mi\u001b[0m \u001b[0;34m%\u001b[0m \u001b[0;36m20\u001b[0m \u001b[0;34m==\u001b[0m \u001b[0;36m0\u001b[0m\u001b[0;34m:\u001b[0m\u001b[0;34m\u001b[0m\u001b[0;34m\u001b[0m\u001b[0m\n\u001b[1;32m     14\u001b[0m             \u001b[0mprint\u001b[0m\u001b[0;34m(\u001b[0m\u001b[0;34mf'training loss: {loss_sum / (i + 1):.4f}'\u001b[0m\u001b[0;34m)\u001b[0m\u001b[0;34m\u001b[0m\u001b[0;34m\u001b[0m\u001b[0m\n",
      "\u001b[0;31mKeyboardInterrupt\u001b[0m: "
     ]
    }
   ],
   "source": [
    "best_avg_xentropy_loss, best_avg_thesis_loss, best_val_accuracy, best_model, final_model = train_with_eval(train_loader, val_loader, model, optimizer, num_epoches, True)\n"
   ]
  },
  {
   "cell_type": "code",
   "execution_count": null,
   "metadata": {},
   "outputs": [],
   "source": [
    "best_avg_xentropy_loss, best_avg_thesis_loss, best_val_accuracy"
   ]
  },
  {
   "cell_type": "code",
   "execution_count": null,
   "metadata": {},
   "outputs": [],
   "source": []
  }
 ],
 "metadata": {
  "kernelspec": {
   "display_name": "Python 3",
   "language": "python",
   "name": "python3"
  },
  "language_info": {
   "codemirror_mode": {
    "name": "ipython",
    "version": 3
   },
   "file_extension": ".py",
   "mimetype": "text/x-python",
   "name": "python",
   "nbconvert_exporter": "python",
   "pygments_lexer": "ipython3",
   "version": "3.7.7"
  }
 },
 "nbformat": 4,
 "nbformat_minor": 4
}
