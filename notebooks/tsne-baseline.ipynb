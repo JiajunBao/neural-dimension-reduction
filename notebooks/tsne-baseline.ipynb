{
 "cells": [
  {
   "cell_type": "code",
   "execution_count": 1,
   "metadata": {},
   "outputs": [],
   "source": [
    "import pandas as pd\n",
    "\n",
    "from sklearn.manifold import TSNE\n",
    "from pathlib import Path\n",
    "import joblib\n",
    "import torch\n",
    "\n",
    "import numpy as np\n",
    "from tqdm.auto import tqdm\n",
    "\n",
    "import matplotlib.pyplot as plt"
   ]
  },
  {
   "cell_type": "code",
   "execution_count": 2,
   "metadata": {},
   "outputs": [],
   "source": [
    "def import_raw_data(input_path):\n",
    "    df = pd.read_csv(input_path, header=None)\n",
    "    return df"
   ]
  },
  {
   "cell_type": "code",
   "execution_count": 3,
   "metadata": {},
   "outputs": [],
   "source": [
    "input_embeddings = import_raw_data('../data/dev.csv')"
   ]
  },
  {
   "cell_type": "code",
   "execution_count": 4,
   "metadata": {},
   "outputs": [
    {
     "name": "stdout",
     "output_type": "stream",
     "text": [
      "[t-SNE] Computing pairwise distances...\n",
      "[t-SNE] Computed conditional probabilities for sample 1000 / 1000\n",
      "[t-SNE] Mean sigma: 6.639150\n",
      "[t-SNE] Iteration 50: error = 63.3019218, gradient norm = 0.0998586 (50 iterations in 767.132s)\n",
      "[t-SNE] Iteration 100: error = 65.6832138, gradient norm = 0.0640841 (50 iterations in 904.739s)\n",
      "[t-SNE] Iteration 150: error = 65.8543455, gradient norm = 0.0506401 (50 iterations in 851.728s)\n",
      "[t-SNE] Iteration 200: error = 66.7183124, gradient norm = 0.0590515 (50 iterations in 901.460s)\n",
      "[t-SNE] Iteration 250: error = 67.8909375, gradient norm = 0.0523807 (50 iterations in 861.348s)\n",
      "[t-SNE] KL divergence after 250 iterations with early exaggeration: 67.890937\n",
      "[t-SNE] Iteration 300: error = 3.9593780, gradient norm = 0.0000638 (50 iterations in 994.884s)\n",
      "[t-SNE] Iteration 350: error = 3.8063509, gradient norm = 0.0000146 (50 iterations in 890.220s)\n",
      "[t-SNE] Iteration 400: error = 3.7317602, gradient norm = 0.0000063 (50 iterations in 66.270s)\n",
      "[t-SNE] Iteration 450: error = 3.6871737, gradient norm = 0.0000036 (50 iterations in 5.858s)\n",
      "[t-SNE] Iteration 500: error = 3.6580103, gradient norm = 0.0000023 (50 iterations in 5.846s)\n",
      "[t-SNE] KL divergence after 500 iterations: 3.658010\n"
     ]
    }
   ],
   "source": [
    "model = TSNE(n_components=20, n_iter=500, method='exact', perplexity=40, verbose=2, random_state=42)\n",
    "output_embeddings = model.fit_transform(input_embeddings)"
   ]
  },
  {
   "cell_type": "code",
   "execution_count": 5,
   "metadata": {},
   "outputs": [],
   "source": [
    "output_embeddings = torch.from_numpy(output_embeddings)"
   ]
  },
  {
   "cell_type": "code",
   "execution_count": 6,
   "metadata": {},
   "outputs": [],
   "source": [
    "def far_func(sorted_dist: torch.tensor, indices: torch.tensor):\n",
    "    return sorted_dist[:, -100], indices[:, -100]\n",
    "\n",
    "\n",
    "def close_func(sorted_dist: torch.tensor, indices: torch.tensor):\n",
    "    return sorted_dist[:, :200], indices[:, :200]\n",
    "\n",
    "\n",
    "def calculate_distance(x, close_fn, far_fn):\n",
    "    device = torch.device(\"cuda:1\") if torch.cuda.is_available() else torch.device(\"cpu\")\n",
    "    batch_size = 2048\n",
    "    x_device = x.to(device)\n",
    "    \n",
    "    num_iter = x.shape[0] // batch_size + 1\n",
    "    anchor_idx_list, close_idx_list, far_idx_list = list(), list(), list()\n",
    "    close_distance_list, far_distance_list = list(), list()\n",
    "    for i in tqdm(torch.arange(num_iter), desc='create triplets'):\n",
    "        batch_x = x[i * batch_size: (i + 1) * batch_size, :].to(device)\n",
    "\n",
    "        dist = torch.cdist(x1=batch_x, x2=x_device, p=2)  # (n, n)\n",
    "        sorted_dist, indices = torch.sort(dist, dim=1, descending=False)\n",
    "        sorted_dist, indices = sorted_dist, indices\n",
    "        anchor_idx = torch.arange(i * batch_size, i * batch_size + batch_x.shape[0])  # (n,)\n",
    "        # assert torch.equal(anchor_idx, indices[:, 0].cpu())\n",
    "        # the 0-th column is the distance to oneself\n",
    "        close_distance, close_idx = close_fn(sorted_dist, indices)  # (n,)\n",
    "        far_distance, far_idx = far_fn(sorted_dist, indices)  # (n, r)\n",
    "        anchor_idx_list.append(anchor_idx.cpu())\n",
    "        close_idx_list.append(close_idx.cpu())\n",
    "        far_idx_list.append(far_idx.cpu())\n",
    "        close_distance_list.append(close_distance.cpu())\n",
    "        far_distance_list.append(far_distance.cpu())\n",
    "    anchor_idx_list = torch.cat(anchor_idx_list, dim=0)\n",
    "    close_idx_list = torch.cat(close_idx_list, dim=0)\n",
    "    far_idx_list = torch.cat(far_idx_list, dim=0)\n",
    "    close_distance_list = torch.cat(close_distance_list, dim=0)\n",
    "    far_distance_list = torch.cat(far_distance_list, dim=0)\n",
    "    return anchor_idx_list, close_idx_list, far_idx_list, close_distance_list, far_distance_list"
   ]
  },
  {
   "cell_type": "code",
   "execution_count": 7,
   "metadata": {},
   "outputs": [
    {
     "data": {
      "application/vnd.jupyter.widget-view+json": {
       "model_id": "75357b90275c4601bcda6cd4f7bcfe57",
       "version_major": 2,
       "version_minor": 0
      },
      "text/plain": [
       "HBox(children=(FloatProgress(value=0.0, description='create triplets', max=1.0, style=ProgressStyle(descriptio…"
      ]
     },
     "metadata": {},
     "output_type": "display_data"
    },
    {
     "name": "stdout",
     "output_type": "stream",
     "text": [
      "\n"
     ]
    }
   ],
   "source": [
    "anchor_out, close_out, _, _, _ = calculate_distance(output_embeddings, close_func, far_func)"
   ]
  },
  {
   "cell_type": "code",
   "execution_count": 8,
   "metadata": {},
   "outputs": [
    {
     "data": {
      "application/vnd.jupyter.widget-view+json": {
       "model_id": "98c0cebf86ee48e19df36398f4102d8a",
       "version_major": 2,
       "version_minor": 0
      },
      "text/plain": [
       "HBox(children=(FloatProgress(value=0.0, description='create triplets', max=1.0, style=ProgressStyle(descriptio…"
      ]
     },
     "metadata": {},
     "output_type": "display_data"
    },
    {
     "name": "stdout",
     "output_type": "stream",
     "text": [
      "\n"
     ]
    }
   ],
   "source": [
    "anchor_in, close_in, _, _, _ = calculate_distance(torch.from_numpy(input_embeddings.to_numpy()), close_func, far_func)"
   ]
  },
  {
   "cell_type": "code",
   "execution_count": 9,
   "metadata": {},
   "outputs": [
    {
     "data": {
      "text/plain": [
       "73.225"
      ]
     },
     "execution_count": 9,
     "metadata": {},
     "output_type": "execute_result"
    }
   ],
   "source": [
    "c_list = list()\n",
    "for x, y in zip(close_out.numpy().tolist(), close_in.numpy().tolist()):\n",
    "    c = 0\n",
    "    for tmp in y:\n",
    "        if tmp in x:\n",
    "            c += 1\n",
    "    c_list.append(c)\n",
    "np.mean(c_list)"
   ]
  },
  {
   "cell_type": "code",
   "execution_count": 10,
   "metadata": {},
   "outputs": [],
   "source": [
    "def test():\n",
    "    res = list()\n",
    "    for i in range(1, 101):\n",
    "        c_list = list()\n",
    "        for x, y in zip(close_out.numpy().tolist(), close_in.numpy().tolist()):\n",
    "            c = 0\n",
    "            for tmp in y[:i]:\n",
    "                if tmp in x[:i]:\n",
    "                    c += 1\n",
    "            c_list.append(c)\n",
    "        res.append(np.mean(c_list))\n",
    "    return res"
   ]
  },
  {
   "cell_type": "code",
   "execution_count": 11,
   "metadata": {},
   "outputs": [],
   "source": [
    "res = test()"
   ]
  },
  {
   "cell_type": "code",
   "execution_count": 12,
   "metadata": {},
   "outputs": [
    {
     "data": {
      "text/plain": [
       "[<matplotlib.lines.Line2D at 0x7fe088df2bd0>]"
      ]
     },
     "execution_count": 12,
     "metadata": {},
     "output_type": "execute_result"
    },
    {
     "data": {
      "image/png": "[encoded data removed]",
      "text/plain": [
       "<Figure size 432x288 with 1 Axes>"
      ]
     },
     "metadata": {
      "needs_background": "light"
     },
     "output_type": "display_data"
    }
   ],
   "source": [
    "plt.plot(res)"
   ]
  },
  {
   "cell_type": "code",
   "execution_count": null,
   "metadata": {},
   "outputs": [],
   "source": []
  }
 ],
 "metadata": {
  "kernelspec": {
   "display_name": "Python 3",
   "language": "python",
   "name": "python3"
  },
  "language_info": {
   "codemirror_mode": {
    "name": "ipython",
    "version": 3
   },
   "file_extension": ".py",
   "mimetype": "text/x-python",
   "name": "python",
   "nbconvert_exporter": "python",
   "pygments_lexer": "ipython3",
   "version": "3.7.7"
  }
 },
 "nbformat": 4,
 "nbformat_minor": 4
}
