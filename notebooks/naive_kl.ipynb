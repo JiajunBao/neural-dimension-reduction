{
 "cells": [
  {
   "cell_type": "code",
   "execution_count": null,
   "metadata": {},
   "outputs": [],
   "source": [
    "import sys\n",
    "sys.path.append('/home/jiajunb/neural-dimension-reduction')"
   ]
  },
  {
   "cell_type": "code",
   "execution_count": null,
   "metadata": {},
   "outputs": [],
   "source": [
    "import os\n",
    "\n",
    "import torch\n",
    "from torch import nn\n",
    "from torch.utils.data import DataLoader, TensorDataset\n",
    "import pandas as pd\n",
    "from torch.nn import functional as F\n",
    "from collections import OrderedDict\n",
    "\n",
    "torch.manual_seed(0)"
   ]
  },
  {
   "cell_type": "code",
   "execution_count": null,
   "metadata": {},
   "outputs": [],
   "source": [
    "train_data = torch.from_numpy(pd.read_csv('../data/processed/sample/train.csv', header=None).to_numpy()).double()\n",
    "# train_loader = DataLoader(train_data, batch_size=1000, pin_memory=True)\n"
   ]
  },
  {
   "cell_type": "code",
   "execution_count": null,
   "metadata": {},
   "outputs": [],
   "source": [
    "model = nn.Sequential(\n",
    "        OrderedDict([\n",
    "            ('fc0', nn.Linear(200, 20)),\n",
    "#             ('bn0', nn.BatchNorm1d(200)),\n",
    "#             ('relu0', nn.ReLU(inplace=True)),\n",
    "#             ('fc0', nn.Linear(200, 500)),\n",
    "#             ('bn1', nn.BatchNorm1d(500)),\n",
    "#             ('relu1', nn.ReLU(inplace=True)),\n",
    "#             ('fc1', nn.Linear(500, 100)),\n",
    "#             ('bn2', nn.BatchNorm1d(100)),\n",
    "#             ('relu2', nn.ReLU(inplace=True)),\n",
    "#             ('fc2', nn.Linear(100, 20)),\n",
    "#             ('bn3', nn.BatchNorm1d(20)),\n",
    "#             ('relu3', nn.ReLU(inplace=True)),\n",
    "#             ('fc3', nn.Linear(20, 20)),\n",
    "#             ('bn4', nn.BatchNorm1d(20)),\n",
    "#             ('relu4', nn.ReLU(inplace=True)),\n",
    "#             ('fc4', nn.Linear(20, 20)),\n",
    "#             ('bn5', nn.BatchNorm1d(20)),\n",
    "#             ('relu5', nn.ReLU(inplace=True)),\n",
    "#             ('fc5', nn.Linear(20, 20)),\n",
    "        ])\n",
    ")"
   ]
  },
  {
   "cell_type": "code",
   "execution_count": null,
   "metadata": {},
   "outputs": [],
   "source": []
  },
  {
   "cell_type": "code",
   "execution_count": null,
   "metadata": {},
   "outputs": [],
   "source": [
    "weight_decay = 1e-5\n",
    "learning_rate = 1e-5\n",
    "num_epoches = 40"
   ]
  },
  {
   "cell_type": "code",
   "execution_count": null,
   "metadata": {},
   "outputs": [],
   "source": [
    "device = torch.device('cuda:0')\n",
    "\n",
    "no_decay = ['bias', 'LayerNorm.weight']\n",
    "optimizer_grouped_parameters = [\n",
    "    {'params': [p for n, p in model.named_parameters() if not any(\n",
    "        nd in n for nd in no_decay) and p.requires_grad], 'weight_decay': weight_decay},\n",
    "    {'params': [p for n, p in model.named_parameters() if any(\n",
    "        nd in n for nd in no_decay) and p.requires_grad], 'weight_decay': 0.0}\n",
    "]\n",
    "\n",
    "optimizer = torch.optim.AdamW(params=optimizer_grouped_parameters, lr=learning_rate)\n",
    "model = model.to(device)"
   ]
  },
  {
   "cell_type": "code",
   "execution_count": null,
   "metadata": {},
   "outputs": [],
   "source": [
    "x_dist = torch.cdist(x1=train_data, x2=train_data, p=2).to(device)"
   ]
  },
  {
   "cell_type": "code",
   "execution_count": null,
   "metadata": {},
   "outputs": [],
   "source": [
    "model.train()\n",
    "\n",
    "for epoch_idx in range(num_epoches):\n",
    "    embedded_x = model(train_data.to(torch.float).to(device))\n",
    "    embedded_x = F.softmax(embedded_x, dim=1)\n",
    "    embedded_x_dist = torch.cdist(x1=embedded_x, x2=embedded_x, p=2)\n",
    "    loss = torch.sum(x_dist * torch.log(x_dist / (embedded_x_dist + 1e-9)))\n",
    "    model.zero_grad()\n",
    "    loss.backward()\n",
    "    optimizer.step()\n",
    "    print(embedded_x.max(dim=1))\n",
    "    print(embedded_x_dist)\n",
    "    print(f'[{epoch_idx}]/[{num_epoches}] {loss.item()}')"
   ]
  },
  {
   "cell_type": "code",
   "execution_count": null,
   "metadata": {},
   "outputs": [],
   "source": []
  }
 ],
 "metadata": {
  "kernelspec": {
   "display_name": "Python 3",
   "language": "python",
   "name": "python3"
  },
  "language_info": {
   "codemirror_mode": {
    "name": "ipython",
    "version": 3
   },
   "file_extension": ".py",
   "mimetype": "text/x-python",
   "name": "python",
   "nbconvert_exporter": "python",
   "pygments_lexer": "ipython3",
   "version": "3.7.7"
  }
 },
 "nbformat": 4,
 "nbformat_minor": 4
}
