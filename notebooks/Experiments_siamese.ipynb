{
 "cells": [
  {
   "cell_type": "code",
   "execution_count": 1,
   "metadata": {
    "colab": {
     "autoexec": {
      "startup": false,
      "wait_interval": 0
     }
    },
    "colab_type": "code",
    "id": "sx9e_pXlCuti"
   },
   "outputs": [],
   "source": [
    "%load_ext autoreload\n",
    "%autoreload 2"
   ]
  },
  {
   "cell_type": "markdown",
   "metadata": {
    "colab_type": "text",
    "id": "UMMut8UVCutt"
   },
   "source": [
    "# Experiments\n",
    "We'll go through learning feature embeddings using different loss functions on MNIST dataset. This is just for visualization purposes, thus we'll be using 2-dimensional embeddings which isn't the best choice in practice.\n",
    "\n",
    "For every experiment the same embedding network is used (32 conv 5x5 -> PReLU -> MaxPool 2x2 -> 64 conv 5x5 -> PReLU -> MaxPool 2x2 -> Dense 256 -> PReLU -> Dense 256 -> PReLU -> Dense 2) and we don't do any hyperparameter search."
   ]
  },
  {
   "cell_type": "markdown",
   "metadata": {
    "colab_type": "text",
    "id": "BcmGBqXeCutw"
   },
   "source": [
    "# Prepare dataset\n",
    "We'll be working on MNIST dataset"
   ]
  },
  {
   "cell_type": "markdown",
   "metadata": {
    "colab_type": "text",
    "id": "TcZTFRnjCut3"
   },
   "source": [
    "## Common setup"
   ]
  },
  {
   "cell_type": "code",
   "execution_count": 93,
   "metadata": {
    "colab": {
     "autoexec": {
      "startup": false,
      "wait_interval": 0
     }
    },
    "colab_type": "code",
    "id": "Dz2xh66UCut5"
   },
   "outputs": [],
   "source": [
    "import torch\n",
    "from torch.optim import lr_scheduler\n",
    "import torch.optim as optim\n",
    "from torch.autograd import Variable\n",
    "\n",
    "from src.models.siamese_triplet.trainer import fit\n",
    "import numpy as np\n",
    "cuda = torch.cuda.is_available()\n",
    "\n",
    "from tqdm.auto import tqdm\n",
    "\n",
    "%matplotlib inline\n",
    "import matplotlib\n",
    "import matplotlib.pyplot as plt\n",
    "\n",
    "mnist_classes = ['0', '1', '2', '3', '4', '5', '6', '7', '8', '9']\n",
    "colors = ['#1f77b4', '#ff7f0e', '#2ca02c', '#d62728',\n",
    "          '#9467bd', '#8c564b', '#e377c2', '#7f7f7f',\n",
    "          '#bcbd22', '#17becf']\n",
    "\n",
    "def plot_embeddings(embeddings, targets, ncluster, xlim=None, ylim=None):\n",
    "    plt.figure(figsize=(10,10))\n",
    "    inds = np.where(targets==ncluster)[0]\n",
    "    plt.scatter(embeddings[inds,0], embeddings[inds,1], alpha=0.5, color=colors[ncluster])\n",
    "    for i in range(ncluster):\n",
    "        inds = np.where(targets==i)[0]\n",
    "        plt.scatter(embeddings[inds,0], embeddings[inds,1], alpha=0.5, color=colors[i])\n",
    "    if xlim:\n",
    "        plt.xlim(xlim[0], xlim[1])\n",
    "    if ylim:\n",
    "        plt.ylim(ylim[0], ylim[1])\n",
    "    plt.legend(mnist_classes)\n",
    "\n",
    "\n",
    "def get_labels(dataloader, label_anchors):\n",
    "    if label_anchors.shape[0] == 1:\n",
    "        x1 = dataloader.dataset.data[label_anchors].unsqueeze(dim=0)\n",
    "    else:\n",
    "        x1 = dataloader.dataset.data[label_anchors]\n",
    "    dist = torch.cdist(x1=x1, x2=dataloader.dataset.data, p=2)  # (n, n)\n",
    "    sorted_dist, indices = torch.sort(dist, dim=1, descending=False)\n",
    "    \n",
    "    num_anchors = label_anchors.shape[0]\n",
    "    n = dataloader.dataset.data.shape[0]\n",
    "    labels = - torch.ones(n)\n",
    "    for i in range(num_anchors):\n",
    "        labels[indices[i, :100]] = i\n",
    "    labels[labels==-1.] = num_anchors\n",
    "    return labels\n",
    "    \n",
    "\n",
    "\n",
    "def extract_embeddings(dataloader, model):\n",
    "    with torch.no_grad():\n",
    "        model.eval()\n",
    "        size = dataloader.dataset.data.shape[0]\n",
    "        batch_size = 256\n",
    "        embedded_x_list = list()\n",
    "        for i in tqdm(range(size // batch_size + 1)):\n",
    "            batch_x = dataloader.dataset.data[batch_size * i: batch_size * (i + 1)].float().to('cuda:0')\n",
    "            embedded_x = model.get_embedding(batch_x).to('cpu')\n",
    "            embedded_x_list.append(embedded_x)\n",
    "    return torch.cat(embedded_x_list, dim=0)"
   ]
  },
  {
   "cell_type": "markdown",
   "metadata": {
    "colab_type": "text",
    "id": "j9FhHE-tCuuc"
   },
   "source": [
    "# Siamese network\n",
    "Now we'll train a siamese network that takes a pair of images and trains the embeddings so that the distance between them is minimized if their from the same class or greater than some margin value if they represent different classes.\n",
    "We'll minimize a contrastive loss function*:\n",
    "$$L_{contrastive}(x_0, x_1, y) = \\frac{1}{2} y \\lVert f(x_0)-f(x_1)\\rVert_2^2 + \\frac{1}{2}(1-y)\\{max(0, m-\\lVert f(x_0)-f(x_1)\\rVert_2)\\}^2$$\n",
    "\n",
    "*Raia Hadsell, Sumit Chopra, Yann LeCun, [Dimensionality reduction by learning an invariant mapping](http://yann.lecun.com/exdb/publis/pdf/hadsell-chopra-lecun-06.pdf), CVPR 2006*"
   ]
  },
  {
   "cell_type": "code",
   "execution_count": 3,
   "metadata": {
    "colab": {
     "autoexec": {
      "startup": false,
      "wait_interval": 0
     }
    },
    "colab_type": "code",
    "id": "-qpIq-TzCuue"
   },
   "outputs": [],
   "source": [
    "# Set up data loaders\n",
    "from src.models.siamese_triplet.datasets import SiameseSynthesis\n",
    "from pathlib import Path\n",
    "\n",
    "siamese_train_dataset = SiameseSynthesis(Path('../data/train.pt')) # Returns pairs of images and target same/different\n",
    "siamese_test_dataset = SiameseSynthesis(Path('../data/dev.pt'))\n",
    "batch_size = 2048\n",
    "kwargs = {'num_workers': 32, 'pin_memory': True} if cuda else {}\n",
    "siamese_train_loader = torch.utils.data.DataLoader(siamese_train_dataset, batch_size=batch_size, shuffle=True, **kwargs)\n",
    "siamese_test_loader = torch.utils.data.DataLoader(siamese_test_dataset, batch_size=batch_size, shuffle=False, **kwargs)\n",
    "\n",
    "# Set up the network and training parameters\n",
    "from src.models.siamese_triplet.networks import EmbeddingNet, SiameseNet\n",
    "from src.models.siamese_triplet.losses import ContrastiveLoss\n",
    "\n",
    "margin = 1.\n",
    "embedding_net = EmbeddingNet()\n",
    "model = SiameseNet(embedding_net)\n",
    "if cuda:\n",
    "    model.cuda()\n",
    "\n",
    "loss_fn = ContrastiveLoss(margin)\n",
    "lr = 1e-3\n",
    "optimizer = optim.Adam(model.parameters(), lr=lr)\n",
    "scheduler = lr_scheduler.StepLR(optimizer, 8, gamma=0.1, last_epoch=-1)\n",
    "n_epochs = 1\n",
    "log_interval = 100"
   ]
  },
  {
   "cell_type": "code",
   "execution_count": 4,
   "metadata": {
    "colab": {
     "autoexec": {
      "startup": false,
      "wait_interval": 0
     },
     "base_uri": "https://localhost:8080/",
     "height": 2397
    },
    "colab_type": "code",
    "id": "_IqiBATeCuuh",
    "outputId": "c9e31172-3754-4ff2-8b7f-1bc2720d554b",
    "scrolled": true
   },
   "outputs": [
    {
     "name": "stdout",
     "output_type": "stream",
     "text": [
      "Train: [0/18000000 (0%)]\tLoss: 0.318400\n",
      "Train: [204800/18000000 (1%)]\tLoss: 0.012218\n",
      "Train: [409600/18000000 (2%)]\tLoss: 0.001607\n",
      "Train: [614400/18000000 (3%)]\tLoss: 0.001000\n",
      "Train: [819200/18000000 (5%)]\tLoss: 0.000729\n",
      "Train: [1024000/18000000 (6%)]\tLoss: 0.000559\n",
      "Train: [1228800/18000000 (7%)]\tLoss: 0.000511\n",
      "Train: [1433600/18000000 (8%)]\tLoss: 0.000421\n",
      "Train: [1638400/18000000 (9%)]\tLoss: 0.000338\n",
      "Train: [1843200/18000000 (10%)]\tLoss: 0.000315\n",
      "Train: [2048000/18000000 (11%)]\tLoss: 0.000243\n",
      "Train: [2252800/18000000 (13%)]\tLoss: 0.000240\n",
      "Train: [2457600/18000000 (14%)]\tLoss: 0.000213\n",
      "Train: [2662400/18000000 (15%)]\tLoss: 0.000193\n",
      "Train: [2867200/18000000 (16%)]\tLoss: 0.000194\n",
      "Train: [3072000/18000000 (17%)]\tLoss: 0.000172\n",
      "Train: [3276800/18000000 (18%)]\tLoss: 0.000151\n",
      "Train: [3481600/18000000 (19%)]\tLoss: 0.000155\n",
      "Train: [3686400/18000000 (20%)]\tLoss: 0.000132\n",
      "Train: [3891200/18000000 (22%)]\tLoss: 0.000123\n",
      "Train: [4096000/18000000 (23%)]\tLoss: 0.000122\n",
      "Train: [4300800/18000000 (24%)]\tLoss: 0.000111\n",
      "Train: [4505600/18000000 (25%)]\tLoss: 0.000100\n",
      "Train: [4710400/18000000 (26%)]\tLoss: 0.000101\n",
      "Train: [4915200/18000000 (27%)]\tLoss: 0.000092\n",
      "Train: [5120000/18000000 (28%)]\tLoss: 0.000096\n",
      "Train: [5324800/18000000 (30%)]\tLoss: 0.000079\n",
      "Train: [5529600/18000000 (31%)]\tLoss: 0.000086\n",
      "Train: [5734400/18000000 (32%)]\tLoss: 0.000068\n",
      "Train: [5939200/18000000 (33%)]\tLoss: 0.000072\n",
      "Train: [6144000/18000000 (34%)]\tLoss: 0.000077\n",
      "Train: [6348800/18000000 (35%)]\tLoss: 0.000058\n",
      "Train: [6553600/18000000 (36%)]\tLoss: 0.000049\n",
      "Train: [6758400/18000000 (38%)]\tLoss: 0.000055\n",
      "Train: [6963200/18000000 (39%)]\tLoss: 0.000059\n",
      "Train: [7168000/18000000 (40%)]\tLoss: 0.000052\n",
      "Train: [7372800/18000000 (41%)]\tLoss: 0.000047\n",
      "Train: [7577600/18000000 (42%)]\tLoss: 0.000045\n",
      "Train: [7782400/18000000 (43%)]\tLoss: 0.000045\n",
      "Train: [7987200/18000000 (44%)]\tLoss: 0.000042\n",
      "Train: [8192000/18000000 (46%)]\tLoss: 0.000039\n",
      "Train: [8396800/18000000 (47%)]\tLoss: 0.000037\n",
      "Train: [8601600/18000000 (48%)]\tLoss: 0.000035\n",
      "Train: [8806400/18000000 (49%)]\tLoss: 0.000033\n",
      "Train: [9011200/18000000 (50%)]\tLoss: 0.000039\n",
      "Train: [9216000/18000000 (51%)]\tLoss: 0.000030\n",
      "Train: [9420800/18000000 (52%)]\tLoss: 0.000026\n",
      "Train: [9625600/18000000 (53%)]\tLoss: 0.000025\n",
      "Train: [9830400/18000000 (55%)]\tLoss: 0.000028\n",
      "Train: [10035200/18000000 (56%)]\tLoss: 0.000025\n",
      "Train: [10240000/18000000 (57%)]\tLoss: 0.000026\n",
      "Train: [10444800/18000000 (58%)]\tLoss: 0.000023\n",
      "Train: [10649600/18000000 (59%)]\tLoss: 0.000022\n",
      "Train: [10854400/18000000 (60%)]\tLoss: 0.000023\n",
      "Train: [11059200/18000000 (61%)]\tLoss: 0.000020\n",
      "Train: [11264000/18000000 (63%)]\tLoss: 0.000019\n",
      "Train: [11468800/18000000 (64%)]\tLoss: 0.000017\n",
      "Train: [11673600/18000000 (65%)]\tLoss: 0.000021\n",
      "Train: [11878400/18000000 (66%)]\tLoss: 0.000018\n",
      "Train: [12083200/18000000 (67%)]\tLoss: 0.000017\n",
      "Train: [12288000/18000000 (68%)]\tLoss: 0.000018\n",
      "Train: [12492800/18000000 (69%)]\tLoss: 0.000015\n",
      "Train: [12697600/18000000 (71%)]\tLoss: 0.000029\n",
      "Train: [12902400/18000000 (72%)]\tLoss: 0.000023\n",
      "Train: [13107200/18000000 (73%)]\tLoss: 0.000018\n",
      "Train: [13312000/18000000 (74%)]\tLoss: 0.000029\n",
      "Train: [13516800/18000000 (75%)]\tLoss: 0.000022\n",
      "Train: [13721600/18000000 (76%)]\tLoss: 0.000032\n",
      "Train: [13926400/18000000 (77%)]\tLoss: 0.000020\n",
      "Train: [14131200/18000000 (78%)]\tLoss: 0.000013\n",
      "Train: [14336000/18000000 (80%)]\tLoss: 0.000010\n",
      "Train: [14540800/18000000 (81%)]\tLoss: 0.000011\n",
      "Train: [14745600/18000000 (82%)]\tLoss: 0.000010\n",
      "Train: [14950400/18000000 (83%)]\tLoss: 0.000010\n",
      "Train: [15155200/18000000 (84%)]\tLoss: 0.000009\n",
      "Train: [15360000/18000000 (85%)]\tLoss: 0.000010\n",
      "Train: [15564800/18000000 (86%)]\tLoss: 0.000009\n",
      "Train: [15769600/18000000 (88%)]\tLoss: 0.000010\n",
      "Train: [15974400/18000000 (89%)]\tLoss: 0.000010\n",
      "Train: [16179200/18000000 (90%)]\tLoss: 0.000008\n",
      "Train: [16384000/18000000 (91%)]\tLoss: 0.000007\n",
      "Train: [16588800/18000000 (92%)]\tLoss: 0.000008\n",
      "Train: [16793600/18000000 (93%)]\tLoss: 0.000006\n",
      "Train: [16998400/18000000 (94%)]\tLoss: 0.000032\n",
      "Train: [17203200/18000000 (96%)]\tLoss: 0.000031\n",
      "Train: [17408000/18000000 (97%)]\tLoss: 0.000016\n",
      "Train: [17612800/18000000 (98%)]\tLoss: 0.000016\n",
      "Train: [17817600/18000000 (99%)]\tLoss: 0.000011\n",
      "Epoch: 1/1. Train set: Average loss: 0.0003\n",
      "Epoch: 1/1. Validation set: Average loss: 0.0099\n"
     ]
    }
   ],
   "source": [
    "fit(siamese_train_loader, siamese_test_loader, model, loss_fn, optimizer, scheduler, n_epochs, cuda, log_interval)"
   ]
  },
  {
   "cell_type": "code",
   "execution_count": 8,
   "metadata": {
    "colab": {
     "autoexec": {
      "startup": false,
      "wait_interval": 0
     },
     "base_uri": "https://localhost:8080/",
     "height": 1167
    },
    "colab_type": "code",
    "id": "rBBBuPjiCuup",
    "outputId": "0849de03-297f-4189-d5ea-fc8c5fda27e1"
   },
   "outputs": [
    {
     "data": {
      "application/vnd.jupyter.widget-view+json": {
       "model_id": "4d3d2c6abfc94f6b9c96eb1a2964db81",
       "version_major": 2,
       "version_minor": 0
      },
      "text/plain": [
       "HBox(children=(FloatProgress(value=0.0, max=352.0), HTML(value='')))"
      ]
     },
     "metadata": {},
     "output_type": "display_data"
    },
    {
     "name": "stdout",
     "output_type": "stream",
     "text": [
      "\n"
     ]
    }
   ],
   "source": [
    "# embedded_x = extract_embeddings(siamese_train_loader, model)\n",
    "# train_embeddings_cl, train_labels_cl = extract_embeddings(siamese_train_loader, model)\n",
    "# plot_embeddings(train_embeddings_cl, train_labels_cl)\n",
    "# val_embeddings_cl, val_labels_cl = extract_embeddings(siamese_test_loader, model)\n",
    "# plot_embeddings(val_embeddings_cl, val_labels_cl)"
   ]
  },
  {
   "cell_type": "code",
   "execution_count": 95,
   "metadata": {},
   "outputs": [
    {
     "data": {
      "application/vnd.jupyter.widget-view+json": {
       "model_id": "1c03b71564b24d21be32e8d2448d9b88",
       "version_major": 2,
       "version_minor": 0
      },
      "text/plain": [
       "HBox(children=(FloatProgress(value=0.0, max=352.0), HTML(value='')))"
      ]
     },
     "metadata": {},
     "output_type": "display_data"
    },
    {
     "name": "stdout",
     "output_type": "stream",
     "text": [
      "\n"
     ]
    },
    {
     "data": {
      "image/png": "[encoded data removed]",
      "text/plain": [
       "<Figure size 720x720 with 1 Axes>"
      ]
     },
     "metadata": {
      "needs_background": "light"
     },
     "output_type": "display_data"
    },
    {
     "data": {
      "image/png": "[encoded data removed]",
      "text/plain": [
       "<Figure size 720x720 with 1 Axes>"
      ]
     },
     "metadata": {
      "needs_background": "light"
     },
     "output_type": "display_data"
    }
   ],
   "source": [
    "embedded_x = extract_embeddings(siamese_train_loader, model)\n",
    "labels = get_labels(siamese_train_loader, torch.tensor([0, 1, 2, 3, 4, 5, 6, 7, 8]))\n",
    "plot_embeddings(siamese_train_loader.dataset.data, labels, ncluster=9)\n",
    "plot_embeddings(embedded_x, labels, ncluster=9)"
   ]
  },
  {
   "cell_type": "markdown",
   "metadata": {
    "colab_type": "text",
    "id": "MbKXy6yQCuuu"
   },
   "source": [
    "# Triplet network\n",
    "We'll train a triplet network, that takes an anchor, positive (same class as anchor) and negative (different class than anchor) examples. The objective is to learn embeddings such that the anchor is closer to the positive example than it is to the negative example by some margin value.\n",
    "\n",
    "![alt text](images/anchor_negative_positive.png \"Source: FaceNet\")\n",
    "Source: [2] *Schroff, Florian, Dmitry Kalenichenko, and James Philbin. [Facenet: A unified embedding for face recognition and clustering.](https://arxiv.org/abs/1503.03832) CVPR 2015.*\n",
    "\n",
    "**Triplet loss**:   $L_{triplet}(x_a, x_p, x_n) = max(0, m +  \\lVert f(x_a)-f(x_p)\\rVert_2^2 - \\lVert f(x_a)-f(x_n)\\rVert_2^2$\\)"
   ]
  },
  {
   "cell_type": "code",
   "execution_count": null,
   "metadata": {
    "colab": {
     "autoexec": {
      "startup": false,
      "wait_interval": 0
     }
    },
    "colab_type": "code",
    "id": "jv4DvFucCuuu"
   },
   "outputs": [],
   "source": [
    "# Set up data loaders\n",
    "from src.models.siamese_triplet.datasets import TripletMNIST\n",
    "\n",
    "triplet_train_dataset = TripletMNIST(train_dataset) # Returns triplets of images\n",
    "triplet_test_dataset = TripletMNIST(test_dataset)\n",
    "batch_size = 128\n",
    "kwargs = {'num_workers': 1, 'pin_memory': True} if cuda else {}\n",
    "triplet_train_loader = torch.utils.data.DataLoader(triplet_train_dataset, batch_size=batch_size, shuffle=True, **kwargs)\n",
    "triplet_test_loader = torch.utils.data.DataLoader(triplet_test_dataset, batch_size=batch_size, shuffle=False, **kwargs)\n",
    "\n",
    "# Set up the network and training parameters\n",
    "from src.models.siamese_triplet.networks import EmbeddingNet, TripletNet\n",
    "from src.models.siamese_triplet.losses import TripletLoss\n",
    "\n",
    "margin = 1.\n",
    "embedding_net = EmbeddingNet()\n",
    "model = TripletNet(embedding_net)\n",
    "if cuda:\n",
    "    model.cuda()\n",
    "loss_fn = TripletLoss(margin)\n",
    "lr = 1e-3\n",
    "optimizer = optim.Adam(model.parameters(), lr=lr)\n",
    "scheduler = lr_scheduler.StepLR(optimizer, 8, gamma=0.1, last_epoch=-1)\n",
    "n_epochs = 20\n",
    "log_interval = 100"
   ]
  },
  {
   "cell_type": "code",
   "execution_count": null,
   "metadata": {
    "colab": {
     "autoexec": {
      "startup": false,
      "wait_interval": 0
     },
     "base_uri": "https://localhost:8080/",
     "height": 2397
    },
    "colab_type": "code",
    "id": "Dj9AoYpsCuuz",
    "outputId": "70ff7e3d-4e0b-403c-9af1-41c51a4c808e"
   },
   "outputs": [],
   "source": [
    "fit(triplet_train_loader, triplet_test_loader, model, loss_fn, optimizer, scheduler, n_epochs, cuda, log_interval)"
   ]
  },
  {
   "cell_type": "code",
   "execution_count": null,
   "metadata": {
    "colab": {
     "autoexec": {
      "startup": false,
      "wait_interval": 0
     },
     "base_uri": "https://localhost:8080/",
     "height": 1167
    },
    "colab_type": "code",
    "id": "ysh4Ry7ZCuu_",
    "outputId": "4194cf1d-da83-452a-94d6-2cd4c31aca2a"
   },
   "outputs": [],
   "source": [
    "train_embeddings_tl, train_labels_tl = extract_embeddings(train_loader, model)\n",
    "plot_embeddings(train_embeddings_tl, train_labels_tl)\n",
    "val_embeddings_tl, val_labels_tl = extract_embeddings(test_loader, model)\n",
    "plot_embeddings(val_embeddings_tl, val_labels_tl)"
   ]
  },
  {
   "cell_type": "markdown",
   "metadata": {
    "colab_type": "text",
    "id": "x7C9H1_nCuvJ"
   },
   "source": [
    "# Online pair/triplet selection - negative mining\n",
    "There are couple of problems with siamese and triplet networks.\n",
    "1. The number of possible pairs/triplets grows **quadratically/cubically** with the number of examples. It's infeasible to process them all\n",
    "2. We generate pairs/triplets randomly. As the training continues, more and more pairs/triplets are easy to deal with (their loss value is very small or even 0), preventing the network from training. We need to provide the network with **hard examples**.\n",
    "3. Each image that is fed to the network is used only for computation of contrastive/triplet loss for only one pair/triplet. The computation is somewhat wasted; once the embedding is computed, it could be reused for many pairs/triplets.\n",
    "\n",
    "To deal with that efficiently, we'll feed a network with standard mini-batches as we did for classification. The loss function will be responsible for selection of hard pairs and triplets within mini-batch. In these case, if we feed the network with 16 images per 10 classes, we can process up to $159*160/2 = 12720$ pairs and $10*16*15/2*(9*16) = 172800$ triplets, compared to 80 pairs and 53 triplets in previous implementation.\n",
    "\n",
    "We can find some strategies on how to select triplets in [2] and [3] *Alexander Hermans, Lucas Beyer, Bastian Leibe, [In Defense of the Triplet Loss for Person Re-Identification](https://arxiv.org/pdf/1703.07737), 2017*"
   ]
  },
  {
   "cell_type": "markdown",
   "metadata": {
    "colab_type": "text",
    "id": "k806qej9CuvL"
   },
   "source": [
    "## Online pair selection\n",
    "## Steps\n",
    "1. Create **BalancedBatchSampler** - samples $N$ classes and $M$ samples *datasets.py*\n",
    "2. Create data loaders with the batch sampler\n",
    "3. Define **embedding** *(mapping)* network $f(x)$ - **EmbeddingNet** from *networks.py*\n",
    "4. Define a **PairSelector** that takes embeddings and original labels and returns valid pairs within a minibatch\n",
    "5. Define **OnlineContrastiveLoss** that will use a *PairSelector* and compute *ContrastiveLoss* on such pairs\n",
    "6. Train the network!"
   ]
  },
  {
   "cell_type": "code",
   "execution_count": null,
   "metadata": {
    "colab": {
     "autoexec": {
      "startup": false,
      "wait_interval": 0
     }
    },
    "colab_type": "code",
    "id": "goVi1_-PCuvL"
   },
   "outputs": [],
   "source": [
    "from src.models.siamese_triplet.datasets import BalancedBatchSampler\n",
    "\n",
    "# We'll create mini batches by sampling labels that will be present in the mini batch and number of examples from each class\n",
    "train_batch_sampler = BalancedBatchSampler(train_dataset.train_labels, n_classes=10, n_samples=25)\n",
    "test_batch_sampler = BalancedBatchSampler(test_dataset.test_labels, n_classes=10, n_samples=25)\n",
    "\n",
    "kwargs = {'num_workers': 1, 'pin_memory': True} if cuda else {}\n",
    "online_train_loader = torch.utils.data.DataLoader(train_dataset, batch_sampler=train_batch_sampler, **kwargs)\n",
    "online_test_loader = torch.utils.data.DataLoader(test_dataset, batch_sampler=test_batch_sampler, **kwargs)\n",
    "\n",
    "# Set up the network and training parameters\n",
    "from src.models.siamese_triplet.networks import EmbeddingNet\n",
    "from src.models.siamese_triplet.losses import OnlineContrastiveLoss\n",
    "from src.models.siamese_triplet.utils import AllPositivePairSelector, HardNegativePairSelector # Strategies for selecting pairs within a minibatch\n",
    "\n",
    "margin = 1.\n",
    "embedding_net = EmbeddingNet()\n",
    "model = embedding_net\n",
    "if cuda:\n",
    "    model.cuda()\n",
    "loss_fn = OnlineContrastiveLoss(margin, HardNegativePairSelector())\n",
    "lr = 1e-3\n",
    "optimizer = optim.Adam(model.parameters(), lr=lr)\n",
    "scheduler = lr_scheduler.StepLR(optimizer, 8, gamma=0.1, last_epoch=-1)\n",
    "n_epochs = 20\n",
    "log_interval = 50"
   ]
  },
  {
   "cell_type": "code",
   "execution_count": null,
   "metadata": {
    "colab": {
     "autoexec": {
      "startup": false,
      "wait_interval": 0
     },
     "base_uri": "https://localhost:8080/",
     "height": 2397
    },
    "colab_type": "code",
    "id": "SacMTqN6CuvO",
    "outputId": "d339ea0e-a143-423f-939a-55f0b9a38e6a"
   },
   "outputs": [],
   "source": [
    "fit(online_train_loader, online_test_loader, model, loss_fn, optimizer, scheduler, n_epochs, cuda, log_interval)"
   ]
  },
  {
   "cell_type": "code",
   "execution_count": null,
   "metadata": {
    "colab": {
     "autoexec": {
      "startup": false,
      "wait_interval": 0
     },
     "base_uri": "https://localhost:8080/",
     "height": 1167
    },
    "colab_type": "code",
    "id": "ZCvF0AlCCuvX",
    "outputId": "84044105-6289-4a9f-9ec5-47a7d539651a"
   },
   "outputs": [],
   "source": [
    "train_embeddings_ocl, train_labels_ocl = extract_embeddings(train_loader, model)\n",
    "plot_embeddings(train_embeddings_ocl, train_labels_ocl)\n",
    "val_embeddings_ocl, val_labels_ocl = extract_embeddings(test_loader, model)\n",
    "plot_embeddings(val_embeddings_ocl, val_labels_ocl)"
   ]
  },
  {
   "cell_type": "markdown",
   "metadata": {
    "colab_type": "text",
    "id": "UgIGiMwICuvn"
   },
   "source": [
    "## Online triplet selection\n",
    "## Steps\n",
    "1. Create **BalancedBatchSampler** - samples $N$ classes and $M$ samples *datasets.py*\n",
    "2. Create data loaders with the batch sampler\n",
    "3. Define **embedding** *(mapping)* network $f(x)$ - **EmbeddingNet** from *networks.py*\n",
    "4. Define a **TripletSelector** that takes embeddings and original labels and returns valid triplets within a minibatch\n",
    "5. Define **OnlineTripletLoss** that will use a *TripletSelector* and compute *TripletLoss* on such pairs\n",
    "6. Train the network!"
   ]
  },
  {
   "cell_type": "code",
   "execution_count": null,
   "metadata": {
    "colab": {
     "autoexec": {
      "startup": false,
      "wait_interval": 0
     }
    },
    "colab_type": "code",
    "id": "JzpYzMUuCuvp"
   },
   "outputs": [],
   "source": [
    "from src.models.siamese_triplet.datasets import BalancedBatchSampler\n",
    "\n",
    "# We'll create mini batches by sampling labels that will be present in the mini batch and number of examples from each class\n",
    "train_batch_sampler = BalancedBatchSampler(train_dataset.train_labels, n_classes=10, n_samples=25)\n",
    "test_batch_sampler = BalancedBatchSampler(test_dataset.test_labels, n_classes=10, n_samples=25)\n",
    "\n",
    "kwargs = {'num_workers': 1, 'pin_memory': True} if cuda else {}\n",
    "online_train_loader = torch.utils.data.DataLoader(train_dataset, batch_sampler=train_batch_sampler, **kwargs)\n",
    "online_test_loader = torch.utils.data.DataLoader(test_dataset, batch_sampler=test_batch_sampler, **kwargs)\n",
    "\n",
    "# Set up the network and training parameters\n",
    "from src.models.siamese_triplet.networks import EmbeddingNet\n",
    "from src.models.siamese_triplet.losses import OnlineTripletLoss\n",
    "from src.models.siamese_triplet.utils import AllTripletSelector,HardestNegativeTripletSelector, RandomNegativeTripletSelector, SemihardNegativeTripletSelector # Strategies for selecting triplets within a minibatch\n",
    "from src.models.siamese_triplet.metrics import AverageNonzeroTripletsMetric\n",
    "\n",
    "margin = 1.\n",
    "embedding_net = EmbeddingNet()\n",
    "model = embedding_net\n",
    "if cuda:\n",
    "    model.cuda()\n",
    "loss_fn = OnlineTripletLoss(margin, RandomNegativeTripletSelector(margin))\n",
    "lr = 1e-3\n",
    "optimizer = optim.Adam(model.parameters(), lr=lr, weight_decay=1e-4)\n",
    "scheduler = lr_scheduler.StepLR(optimizer, 8, gamma=0.1, last_epoch=-1)\n",
    "n_epochs = 20\n",
    "log_interval = 50"
   ]
  },
  {
   "cell_type": "code",
   "execution_count": null,
   "metadata": {
    "colab": {
     "autoexec": {
      "startup": false,
      "wait_interval": 0
     },
     "base_uri": "https://localhost:8080/",
     "height": 2397
    },
    "colab_type": "code",
    "id": "W-bDxqVJCuvs",
    "outputId": "0b3f7143-d6e5-4f74-9e70-17405026cc91"
   },
   "outputs": [],
   "source": [
    "fit(online_train_loader, online_test_loader, model, loss_fn, optimizer, scheduler, n_epochs, cuda, log_interval, metrics=[AverageNonzeroTripletsMetric()])"
   ]
  },
  {
   "cell_type": "code",
   "execution_count": null,
   "metadata": {
    "colab": {
     "autoexec": {
      "startup": false,
      "wait_interval": 0
     },
     "base_uri": "https://localhost:8080/",
     "height": 1167
    },
    "colab_type": "code",
    "id": "dNrbA2hCCuvw",
    "outputId": "df17047b-8a35-4370-ebe7-be83e9154003"
   },
   "outputs": [],
   "source": [
    "train_embeddings_otl, train_labels_otl = extract_embeddings(train_loader, model)\n",
    "plot_embeddings(train_embeddings_otl, train_labels_otl)\n",
    "val_embeddings_otl, val_labels_otl = extract_embeddings(test_loader, model)\n",
    "plot_embeddings(val_embeddings_otl, val_labels_otl)"
   ]
  },
  {
   "cell_type": "code",
   "execution_count": null,
   "metadata": {
    "colab": {
     "autoexec": {
      "startup": false,
      "wait_interval": 0
     },
     "base_uri": "https://localhost:8080/",
     "height": 1167
    },
    "colab_type": "code",
    "id": "tNY7NReM0zsq",
    "outputId": "5c4db690-d4db-4182-c5d6-9c8d6fc816e7",
    "scrolled": true
   },
   "outputs": [],
   "source": [
    "# display_emb_online, display_emb, display_label_online, display_label = train_embeddings_otl, train_embeddings_tl, train_labels_otl, train_labels_tl\n",
    "display_emb_online, display_emb, display_label_online, display_label = val_embeddings_otl, val_embeddings_tl, val_labels_otl, val_labels_tl\n",
    "x_lim = (np.min(display_emb_online[:,0]), np.max(display_emb_online[:,0]))\n",
    "y_lim = (np.min(display_emb_online[:,1]), np.max(display_emb_online[:,1]))\n",
    "plot_embeddings(display_emb, display_label, x_lim, y_lim)\n",
    "plot_embeddings(display_emb_online, display_label_online, x_lim, y_lim)"
   ]
  },
  {
   "cell_type": "code",
   "execution_count": null,
   "metadata": {
    "colab": {
     "autoexec": {
      "startup": false,
      "wait_interval": 0
     },
     "base_uri": "https://localhost:8080/",
     "height": 1167
    },
    "colab_type": "code",
    "id": "-vyd_460yt7n",
    "outputId": "68c58b88-059f-4b04-ddee-3d3a59bc1856"
   },
   "outputs": [],
   "source": [
    "x_lim = (np.min(train_embeddings_ocl[:,0]), np.max(train_embeddings_ocl[:,0]))\n",
    "y_lim = (np.min(train_embeddings_ocl[:,1]), np.max(train_embeddings_ocl[:,1]))\n",
    "plot_embeddings(train_embeddings_cl, train_labels_cl, x_lim, y_lim)\n",
    "plot_embeddings(train_embeddings_ocl, train_labels_ocl, x_lim, y_lim)"
   ]
  },
  {
   "cell_type": "code",
   "execution_count": null,
   "metadata": {
    "colab": {
     "autoexec": {
      "startup": false,
      "wait_interval": 0
     }
    },
    "colab_type": "code",
    "id": "smvUHdXOyt7r"
   },
   "outputs": [],
   "source": []
  }
 ],
 "metadata": {
  "accelerator": "GPU",
  "colab": {
   "default_view": {},
   "name": "Experiments_MNIST.ipynb",
   "provenance": [],
   "version": "0.3.2",
   "views": {}
  },
  "kernelspec": {
   "display_name": "Python 3",
   "language": "python",
   "name": "python3"
  },
  "language_info": {
   "codemirror_mode": {
    "name": "ipython",
    "version": 3
   },
   "file_extension": ".py",
   "mimetype": "text/x-python",
   "name": "python",
   "nbconvert_exporter": "python",
   "pygments_lexer": "ipython3",
   "version": "3.7.7"
  }
 },
 "nbformat": 4,
 "nbformat_minor": 2
}
