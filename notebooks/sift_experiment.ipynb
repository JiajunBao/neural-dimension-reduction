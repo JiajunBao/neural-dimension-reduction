{
 "cells": [
  {
   "cell_type": "code",
   "execution_count": 1,
   "metadata": {},
   "outputs": [],
   "source": [
    "from src.datasets import SIFT\n",
    "from src.toolkit import network\n",
    "import pandas as pd \n",
    "import torch\n",
    "import numpy as np\n",
    "\n",
    "from src.toolkit import learn\n",
    "\n",
    "from torch.utils.data import Dataset, DataLoader\n",
    "from tqdm.auto import tqdm\n",
    "import faiss"
   ]
  },
  {
   "cell_type": "code",
   "execution_count": 2,
   "metadata": {
    "scrolled": true
   },
   "outputs": [
    {
     "name": "stdout",
     "output_type": "stream",
     "text": [
      "loading dataset from /home/jiajunb/neural-dimension-reduction/data/sift/siftsmall\n"
     ]
    }
   ],
   "source": [
    "train_set, base_set, eval_set = SIFT.get_datasets()"
   ]
  },
  {
   "cell_type": "code",
   "execution_count": 3,
   "metadata": {},
   "outputs": [],
   "source": [
    "model = network.SiameseNet(network.EmbeddingNet())\n",
    "learning_rate = 1e-3\n",
    "batch_size = 524288\n",
    "num_epoches = 30\n",
    "\n",
    "verbose = True\n",
    "device = 'cuda:1' if torch.cuda.is_available() else 'cpu'\n",
    "weight_decay = 1e-6\n",
    "log_epoch = 1"
   ]
  },
  {
   "cell_type": "code",
   "execution_count": 4,
   "metadata": {},
   "outputs": [],
   "source": [
    "# optimizer\n",
    "no_decay = ['bias', 'LayerNorm.weight']\n",
    "optimizer_grouped_parameters = [\n",
    "    {'params': [p for n, p in model.named_parameters() if not any(\n",
    "        nd in n for nd in no_decay) and p.requires_grad], 'weight_decay': weight_decay},\n",
    "    {'params': [p for n, p in model.named_parameters() if any(\n",
    "        nd in n for nd in no_decay) and p.requires_grad], 'weight_decay': 0.0}\n",
    "]\n",
    "\n",
    "optimizer = torch.optim.AdamW(params=optimizer_grouped_parameters, lr=learning_rate)\n",
    "\n",
    "train_loader = DataLoader(train_set, shuffle=True, batch_size=batch_size, pin_memory=True)\n",
    "base_loader = DataLoader(base_set, shuffle=False, batch_size=batch_size, pin_memory=True)\n",
    "eval_loader = DataLoader(eval_set, shuffle=False, batch_size=batch_size, pin_memory=True)\n",
    "\n",
    "model = model.to(device)"
   ]
  },
  {
   "cell_type": "code",
   "execution_count": 5,
   "metadata": {},
   "outputs": [],
   "source": [
    "criterion = learn.PowerMarginLoss(10, 'mean')"
   ]
  },
  {
   "cell_type": "code",
   "execution_count": null,
   "metadata": {
    "scrolled": false
   },
   "outputs": [
    {
     "name": "stdout",
     "output_type": "stream",
     "text": [
      "training loss: 63.335884\n",
      "epoch [1]/[30] training loss: 0.000122 recall on query set: 0.03 recall on base set:  0.04\n",
      "training loss: 60.699104\n",
      "epoch [2]/[30] training loss: 0.000120 recall on query set: 0.03 recall on base set:  0.04\n",
      "training loss: 60.021721\n",
      "epoch [3]/[30] training loss: 0.000118 recall on query set: 0.03 recall on base set:  0.04\n",
      "training loss: 59.415558\n",
      "epoch [4]/[30] training loss: 0.000117 recall on query set: 0.03 recall on base set:  0.04\n"
     ]
    }
   ],
   "source": [
    "best_recall_query_set, its_recall_on_base_set, best_model, model = learn.train_with_eval(train_loader, base_loader, eval_loader, criterion, model, optimizer, num_epoches, log_epoch,\n",
    "                    verbose, device)"
   ]
  },
  {
   "cell_type": "code",
   "execution_count": null,
   "metadata": {},
   "outputs": [],
   "source": [
    "best_recall_query_set"
   ]
  },
  {
   "cell_type": "code",
   "execution_count": null,
   "metadata": {},
   "outputs": [],
   "source": [
    "its_recall_on_base_set"
   ]
  },
  {
   "cell_type": "code",
   "execution_count": null,
   "metadata": {},
   "outputs": [],
   "source": []
  }
 ],
 "metadata": {
  "kernelspec": {
   "display_name": "Python 3",
   "language": "python",
   "name": "python3"
  },
  "language_info": {
   "codemirror_mode": {
    "name": "ipython",
    "version": 3
   },
   "file_extension": ".py",
   "mimetype": "text/x-python",
   "name": "python",
   "nbconvert_exporter": "python",
   "pygments_lexer": "ipython3",
   "version": "3.7.7"
  }
 },
 "nbformat": 4,
 "nbformat_minor": 4
}
