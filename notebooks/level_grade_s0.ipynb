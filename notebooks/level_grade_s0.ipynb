{
 "cells": [
  {
   "cell_type": "code",
   "execution_count": null,
   "metadata": {},
   "outputs": [],
   "source": [
    "from src.models.level_kv_div import trainer, utils, network, datasets\n",
    "import torch"
   ]
  },
  {
   "cell_type": "code",
   "execution_count": null,
   "metadata": {},
   "outputs": [],
   "source": [
    "mode = 'train'\n",
    "t = datasets.get_raw_tensor(f'../data/processed/sample/{mode}.csv')"
   ]
  },
  {
   "cell_type": "code",
   "execution_count": null,
   "metadata": {},
   "outputs": [],
   "source": [
    "def far_func(sorted_dist: torch.tensor, indices: torch.tensor):\n",
    "    return sorted_dist[:, 100 + 1:], indices[:, 100 + 1:]\n",
    "\n",
    "\n",
    "def close_func(sorted_dist: torch.tensor, indices: torch.tensor):\n",
    "    mid = indices.shape[1] // 2\n",
    "    return sorted_dist[:, :100 + 1], indices[:, :100 + 1]\n",
    "\n",
    "_, close_idx, far_idx, _, _ = utils.calculate_distance(t, close_func, far_func)"
   ]
  },
  {
   "cell_type": "code",
   "execution_count": null,
   "metadata": {},
   "outputs": [],
   "source": [
    "indices = torch.cat((close_idx, far_idx), dim=1)"
   ]
  },
  {
   "cell_type": "code",
   "execution_count": null,
   "metadata": {},
   "outputs": [],
   "source": [
    "sim = utils.level_grading(indices, 100)"
   ]
  },
  {
   "cell_type": "code",
   "execution_count": null,
   "metadata": {},
   "outputs": [],
   "source": [
    "torch.save(sim, f'../data/processed/sample/{mode}.level.grading')"
   ]
  },
  {
   "cell_type": "code",
   "execution_count": null,
   "metadata": {},
   "outputs": [],
   "source": []
  }
 ],
 "metadata": {
  "kernelspec": {
   "display_name": "Python 3",
   "language": "python",
   "name": "python3"
  },
  "language_info": {
   "codemirror_mode": {
    "name": "ipython",
    "version": 3
   },
   "file_extension": ".py",
   "mimetype": "text/x-python",
   "name": "python",
   "nbconvert_exporter": "python",
   "pygments_lexer": "ipython3",
   "version": "3.7.7"
  }
 },
 "nbformat": 4,
 "nbformat_minor": 4
}
