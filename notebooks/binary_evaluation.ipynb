{
 "cells": [
  {
   "cell_type": "code",
   "execution_count": 1,
   "metadata": {},
   "outputs": [],
   "source": [
    "import sys\n",
    "sys.path.append('/home/jiajunb/neural-dimension-reduction')"
   ]
  },
  {
   "cell_type": "code",
   "execution_count": 2,
   "metadata": {},
   "outputs": [
    {
     "data": {
      "text/plain": [
       "<torch._C.Generator at 0x7f6d010f1850>"
      ]
     },
     "execution_count": 2,
     "metadata": {},
     "output_type": "execute_result"
    }
   ],
   "source": [
    "import os\n",
    "\n",
    "import torch\n",
    "from torch import nn\n",
    "from torch.utils.data import DataLoader\n",
    "from torch.nn import functional as F\n",
    "from src.models.distance_modeling import SurveyorDataSet, Surveyor, thesis_kl_div_add_mse_loss\n",
    "\n",
    "import copy\n",
    "\n",
    "from sklearn.metrics import classification_report\n",
    "\n",
    "torch.manual_seed(0)"
   ]
  },
  {
   "cell_type": "code",
   "execution_count": 17,
   "metadata": {},
   "outputs": [
    {
     "data": {
      "application/vnd.jupyter.widget-view+json": {
       "model_id": "03d79bbcc551474fa852b59eb02a9ff6",
       "version_major": 2,
       "version_minor": 0
      },
      "text/plain": [
       "HBox(children=(FloatProgress(value=0.0, description='create triplets', max=2.0, style=ProgressStyle(descriptio…"
      ]
     },
     "metadata": {},
     "output_type": "display_data"
    },
    {
     "name": "stdout",
     "output_type": "stream",
     "text": [
      "\n"
     ]
    }
   ],
   "source": [
    "def far_func2(sorted_dist: torch.tensor, indices: torch.tensor):\n",
    "     return sorted_dist[:, 21:], indices[:, 21:]\n",
    "#     n, d = sorted_dist.shape\n",
    "    \n",
    "#     tmp1, tmp2 = list(), list()\n",
    "#     for i in range(n):\n",
    "#         idx = torch.randint(low=(d - 21), high=(d - 1), size=(1, 20))\n",
    "#         tmp1.append(sorted_dist[i][idx])\n",
    "#         tmp2.append(indices[i][idx])\n",
    "#     return torch.cat(tmp1, dim=0), torch.cat(tmp2, dim=0)\n",
    "\n",
    "def close_func2(sorted_dist: torch.tensor, indices: torch.tensor):\n",
    "    return sorted_dist[:, 1:21], indices[:, 1:21]\n",
    "\n",
    "test_dataset = SurveyorDataSet.from_df('/home/jiajunb/neural-dimension-reduction/data/processed/sample/dev.csv', close_func2, far_func2)"
   ]
  },
  {
   "cell_type": "code",
   "execution_count": 18,
   "metadata": {},
   "outputs": [],
   "source": [
    "\n",
    "def val_one_epoch(val_loader, model):\n",
    "    model.eval()\n",
    "    loss_fn1 = nn.CrossEntropyLoss()\n",
    "    loss_fn2 = thesis_kl_div_add_mse_loss\n",
    "    preds_list = list()\n",
    "    labels_list = list()\n",
    "    val_xentropy_loss = 0.\n",
    "    val_thesis_loss = 0.\n",
    "    with torch.no_grad():\n",
    "        for i, batch in enumerate(val_loader):\n",
    "            x1, x2, labels, q = batch\n",
    "            x1, x2, q = x1.to(device), x2.to(device), q.to(device)\n",
    "            logits, p, out1, out2 = model(x1, x2, q, labels=None)\n",
    "            preds = torch.argmax(F.softmax(logits, dim=1), dim=1)\n",
    "            preds_list.append(preds.cpu())\n",
    "            labels_list.append(labels.cpu())\n",
    "            labels = labels.to(device)\n",
    "            val_xentropy_loss += loss_fn1(logits, labels).item()\n",
    "            val_thesis_loss += loss_fn2(p, q).item()\n",
    "    y_preds = torch.cat(preds_list)\n",
    "    y_golds = torch.cat(labels_list)\n",
    "    accuracy = float((y_preds == y_golds).sum().item()) / len(y_preds)\n",
    "    print(classification_report(y_golds, y_preds))\n",
    "    return val_xentropy_loss / len(y_preds), val_thesis_loss / len(y_preds), accuracy"
   ]
  },
  {
   "cell_type": "code",
   "execution_count": 19,
   "metadata": {},
   "outputs": [],
   "source": [
    "device = torch.device('cuda:1')"
   ]
  },
  {
   "cell_type": "code",
   "execution_count": 20,
   "metadata": {},
   "outputs": [
    {
     "data": {
      "text/plain": [
       "Surveyor(\n",
       "  (encoder): Sequential(\n",
       "    (bn0): BatchNorm1d(200, eps=1e-05, momentum=0.1, affine=True, track_running_stats=True)\n",
       "    (relu0): ReLU(inplace=True)\n",
       "    (fc0): Linear(in_features=200, out_features=500, bias=True)\n",
       "    (bn1): BatchNorm1d(500, eps=1e-05, momentum=0.1, affine=True, track_running_stats=True)\n",
       "    (relu1): ReLU(inplace=True)\n",
       "    (fc1): Linear(in_features=500, out_features=100, bias=True)\n",
       "    (bn2): BatchNorm1d(100, eps=1e-05, momentum=0.1, affine=True, track_running_stats=True)\n",
       "    (relu2): ReLU(inplace=True)\n",
       "    (fc2): Linear(in_features=100, out_features=20, bias=True)\n",
       "    (bn3): BatchNorm1d(20, eps=1e-05, momentum=0.1, affine=True, track_running_stats=True)\n",
       "    (relu3): ReLU(inplace=True)\n",
       "    (fc3): Linear(in_features=20, out_features=20, bias=True)\n",
       "    (bn4): BatchNorm1d(20, eps=1e-05, momentum=0.1, affine=True, track_running_stats=True)\n",
       "    (relu4): ReLU(inplace=True)\n",
       "    (fc4): Linear(in_features=20, out_features=20, bias=True)\n",
       "    (bn5): BatchNorm1d(20, eps=1e-05, momentum=0.1, affine=True, track_running_stats=True)\n",
       "    (relu5): ReLU(inplace=True)\n",
       "    (fc5): Linear(in_features=20, out_features=20, bias=True)\n",
       "  )\n",
       "  (decoder): Sequential(\n",
       "    (bn1): BatchNorm1d(40, eps=1e-05, momentum=0.1, affine=True, track_running_stats=True)\n",
       "    (relu1): ReLU()\n",
       "    (fc1): Linear(in_features=40, out_features=20, bias=True)\n",
       "    (bn2): BatchNorm1d(20, eps=1e-05, momentum=0.1, affine=True, track_running_stats=True)\n",
       "    (relu2): ReLU()\n",
       "    (fc2): Linear(in_features=20, out_features=2, bias=True)\n",
       "  )\n",
       ")"
      ]
     },
     "execution_count": 20,
     "metadata": {},
     "output_type": "execute_result"
    }
   ],
   "source": [
    "best_model = Surveyor()\n",
    "best_model.load_state_dict(torch.load('../saves/surveyor.on.multi-neg.sample.100')['best_model'])\n",
    "best_model.eval()"
   ]
  },
  {
   "cell_type": "code",
   "execution_count": 21,
   "metadata": {},
   "outputs": [],
   "source": [
    "best_model = best_model.to(device)"
   ]
  },
  {
   "cell_type": "code",
   "execution_count": 22,
   "metadata": {},
   "outputs": [
    {
     "name": "stdout",
     "output_type": "stream",
     "text": [
      "              precision    recall  f1-score   support\n",
      "\n",
      "           0       1.00      0.46      0.63    429570\n",
      "           1       0.05      1.00      0.10     13320\n",
      "\n",
      "    accuracy                           0.47    442890\n",
      "   macro avg       0.53      0.73      0.36    442890\n",
      "weighted avg       0.97      0.47      0.61    442890\n",
      "\n",
      "val_cross_entropy_loss: 0.0007 val_thesis_loss: 0.3037 val_accuracy: 0.4715 \n"
     ]
    }
   ],
   "source": [
    "test_loader = DataLoader(test_dataset, shuffle=False, batch_size=1000, pin_memory=True)\n",
    "avg_xentropy_loss, avg_thesis_loss, val_accuracy = val_one_epoch(test_loader, best_model)\n",
    "\n",
    "print(f'val_cross_entropy_loss: {avg_xentropy_loss:.4f} '\n",
    "      f'val_thesis_loss: {avg_thesis_loss:.4f} '\n",
    "      f'val_accuracy: {val_accuracy:.4f} ')"
   ]
  },
  {
   "cell_type": "code",
   "execution_count": 23,
   "metadata": {},
   "outputs": [
    {
     "data": {
      "text/plain": [
       "442890"
      ]
     },
     "execution_count": 23,
     "metadata": {},
     "output_type": "execute_result"
    }
   ],
   "source": [
    "len(test_dataset)"
   ]
  },
  {
   "cell_type": "code",
   "execution_count": 24,
   "metadata": {},
   "outputs": [
    {
     "data": {
      "text/plain": [
       "tensor(13320)"
      ]
     },
     "execution_count": 24,
     "metadata": {},
     "output_type": "execute_result"
    }
   ],
   "source": [
    "torch.sum(test_dataset.labels)"
   ]
  },
  {
   "cell_type": "code",
   "execution_count": 25,
   "metadata": {},
   "outputs": [
    {
     "data": {
      "text/plain": [
       "442890"
      ]
     },
     "execution_count": 25,
     "metadata": {},
     "output_type": "execute_result"
    }
   ],
   "source": [
    "len(test_dataset.labels)"
   ]
  },
  {
   "cell_type": "code",
   "execution_count": 26,
   "metadata": {},
   "outputs": [
    {
     "data": {
      "text/plain": [
       "tensor(429570)"
      ]
     },
     "execution_count": 26,
     "metadata": {},
     "output_type": "execute_result"
    }
   ],
   "source": [
    "torch.sum(1 - test_dataset.labels)"
   ]
  },
  {
   "cell_type": "code",
   "execution_count": 27,
   "metadata": {},
   "outputs": [
    {
     "data": {
      "text/plain": [
       "442890"
      ]
     },
     "execution_count": 27,
     "metadata": {},
     "output_type": "execute_result"
    }
   ],
   "source": [
    "len(test_dataset)"
   ]
  },
  {
   "cell_type": "code",
   "execution_count": null,
   "metadata": {},
   "outputs": [],
   "source": []
  },
  {
   "cell_type": "code",
   "execution_count": null,
   "metadata": {},
   "outputs": [],
   "source": []
  },
  {
   "cell_type": "code",
   "execution_count": null,
   "metadata": {},
   "outputs": [],
   "source": []
  }
 ],
 "metadata": {
  "kernelspec": {
   "display_name": "Python 3",
   "language": "python",
   "name": "python3"
  },
  "language_info": {
   "codemirror_mode": {
    "name": "ipython",
    "version": 3
   },
   "file_extension": ".py",
   "mimetype": "text/x-python",
   "name": "python",
   "nbconvert_exporter": "python",
   "pygments_lexer": "ipython3",
   "version": "3.7.7"
  }
 },
 "nbformat": 4,
 "nbformat_minor": 4
}
