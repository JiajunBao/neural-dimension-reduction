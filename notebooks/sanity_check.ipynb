{
 "cells": [
  {
   "cell_type": "code",
   "execution_count": null,
   "metadata": {
    "scrolled": true
   },
   "outputs": [],
   "source": [
    "import torch\n",
    "import numpy as np\n",
    "import keras\n",
    "from keras import backend as K"
   ]
  },
  {
   "cell_type": "code",
   "execution_count": null,
   "metadata": {},
   "outputs": [],
   "source": [
    "P = np.load('P.npy')"
   ]
  },
  {
   "cell_type": "code",
   "execution_count": null,
   "metadata": {},
   "outputs": [],
   "source": [
    "# P is the joint probabilities for this batch (Keras loss functions call this y_true)\n",
    "# activations is the low-dimensional output (Keras loss functions call this y_pred)\n",
    "def tsne2(P, activations):\n",
    "#     d = K.shape(activations)[1]\n",
    "    d = 2 # TODO: should set this automatically, but the above is very slow for some reason\n",
    "    n = 5000 # TODO: should set this automatically\n",
    "    v = d - 1.\n",
    "    eps = K.variable(10e-15) # needs to be at least 10e-8 to get anything after Q /= K.sum(Q)\n",
    "    sum_act = K.sum(K.square(activations), axis=1)\n",
    "    Q = K.reshape(sum_act, [-1, 1]) + -2 * K.dot(activations, K.transpose(activations))\n",
    "    Q = (sum_act + Q) / v\n",
    "    Q = K.pow(1 + Q, -(v + 1) / 2)\n",
    "    Q *= K.variable(1 - np.eye(n))\n",
    "    Q /= K.sum(Q)\n",
    "    Q = K.maximum(Q, eps)\n",
    "    C = K.log((P + eps) / (Q + eps))\n",
    "    C = K.sum(P * C)\n",
    "    return C"
   ]
  },
  {
   "cell_type": "code",
   "execution_count": null,
   "metadata": {
    "scrolled": true
   },
   "outputs": [],
   "source": [
    "P_reshaped = P.reshape(60000, 5000)"
   ]
  },
  {
   "cell_type": "code",
   "execution_count": null,
   "metadata": {},
   "outputs": [],
   "source": [
    "np.all(np.equal(P_reshaped[:5000, :5000], P_reshaped[:5000, :5000].T))"
   ]
  },
  {
   "cell_type": "code",
   "execution_count": null,
   "metadata": {},
   "outputs": [],
   "source": [
    "def tsne(P, activations):\n",
    "    n, d = activations.shape\n",
    "    alpha = d - 1\n",
    "    eps = 10e-8\n",
    "    act_pdist = torch.cdist(x1=activations, x2=activations, p=2.)\n",
    "    terms = (1 + act_pdist ** 2 / alpha) ** (-(alpha + 1) / 2)\n",
    "    idx = torch.arange(n)\n",
    "    terms[idx, idx] = 0\n",
    "    Q = terms / terms.sum(dim=1, keepdims=True)\n",
    "    Q = torch.clamp(Q, min=eps)\n",
    "    C = P * torch.log((P + eps) / (Q + eps))\n",
    "    C[idx, idx] = 0  # remove i == j terms\n",
    "    return C.sum()"
   ]
  },
  {
   "cell_type": "code",
   "execution_count": null,
   "metadata": {},
   "outputs": [],
   "source": [
    "activation = np.random.rand(5000, 2)"
   ]
  },
  {
   "cell_type": "code",
   "execution_count": null,
   "metadata": {},
   "outputs": [],
   "source": [
    "C1 = tsne(torch.from_numpy(P), torch.from_numpy(activation))"
   ]
  },
  {
   "cell_type": "code",
   "execution_count": null,
   "metadata": {},
   "outputs": [],
   "source": [
    "batch_size = 5000\n",
    "C1 = tsne2(K.variable(P), K.variable(activation))"
   ]
  },
  {
   "cell_type": "code",
   "execution_count": null,
   "metadata": {},
   "outputs": [],
   "source": [
    "C1"
   ]
  },
  {
   "cell_type": "code",
   "execution_count": null,
   "metadata": {},
   "outputs": [],
   "source": [
    "import torch\n",
    "from tqdm.auto import tqdm"
   ]
  },
  {
   "cell_type": "code",
   "execution_count": null,
   "metadata": {},
   "outputs": [],
   "source": [
    "\n",
    "def nearest_neighbors(x, top_k, device):\n",
    "    \"\"\"\n",
    "    calculate the nearest neighbors of x, return the\n",
    "    :param x: for matrix to calculate nearest neighbor\n",
    "    :param top_k: number of the nearest neighbor to be returned\n",
    "    :param device: device used during computation\n",
    "    :return:\n",
    "            ground_min_dist_square: torch.tensor (n, ) distance to the nearest neighbor\n",
    "            topk_neighbors: torch.tensor (n, top_k) the index of the top-k nearest neighbors;\n",
    "    \"\"\"\n",
    "    batch_size = 2001\n",
    "    x = x.to(device)\n",
    "#     if x.shape[0] * x.shape[1] < batch_size * 200:  # direct computes the whole matrix\n",
    "#         dist = torch.cdist(x1=x, x2=x, p=2)  # (n, n)\n",
    "#         sorted_dist, indices = torch.sort(dist, dim=1, descending=False)\n",
    "#         ground_min_dist_square = sorted_dist[:, 1]  # the 0-th column is the distance to oneself\n",
    "#         topk_neighbors = indices[:, 1:1 + top_k]\n",
    "#         topk_dists = sorted_dist[:, 1:1 + top_k]\n",
    "#     else:  # calculate the nearest neighbors in batches\n",
    "    num_iter = x.shape[0] // batch_size + 1\n",
    "    topk_neighbors_list = list()\n",
    "    ground_min_dist_square_list = list()\n",
    "    sorted_dist_list = list()\n",
    "    for i in tqdm(torch.arange(num_iter), desc='computing nearest neighbors'):\n",
    "        print(i.item())\n",
    "        batch_x = x[i * batch_size: (i + 1) * batch_size, :]\n",
    "        dist = torch.cdist(x1=batch_x, x2=x, p=2)  # (n, n)\n",
    "        print(dist.shape)\n",
    "        sorted_dist, indices = torch.sort(dist, dim=1, descending=False)\n",
    "        batch_ground_min_dist_square = sorted_dist[:, 1]  # the 0-th column is the distance to oneself\n",
    "        batch_topk_neighbors = indices[:, 1:1 + top_k]\n",
    "        topk_neighbors_list.append(batch_topk_neighbors.cpu())\n",
    "        ground_min_dist_square_list.append(batch_ground_min_dist_square.cpu())\n",
    "        sorted_dist_list.append(sorted_dist[:, 1:1 + top_k].cpu())\n",
    "    ground_min_dist_square = torch.cat(ground_min_dist_square_list, dim=0)\n",
    "    topk_neighbors = torch.cat(topk_neighbors_list, dim=0)\n",
    "    topk_dists = torch.cat(sorted_dist_list, dim=0)\n",
    "    return ground_min_dist_square.cpu(), topk_neighbors.cpu(), topk_dists.cpu()\n"
   ]
  },
  {
   "cell_type": "code",
   "execution_count": null,
   "metadata": {},
   "outputs": [],
   "source": [
    "X_train_transformed_tensor = torch.load('X_train_transformed_tensor.torch')\n",
    "X_train = torch.load('X_train.torch')"
   ]
  },
  {
   "cell_type": "code",
   "execution_count": null,
   "metadata": {},
   "outputs": [],
   "source": [
    "X_transfomed_nn = nearest_neighbors(X_train_transformed_tensor, 10, 'cuda:0')"
   ]
  },
  {
   "cell_type": "code",
   "execution_count": null,
   "metadata": {},
   "outputs": [],
   "source": [
    "X_nn = nearest_neighbors(torch.from_numpy(X_train), 10, 'cuda:1')"
   ]
  },
  {
   "cell_type": "code",
   "execution_count": null,
   "metadata": {},
   "outputs": [],
   "source": [
    "a = X_nn[1][:, 0]"
   ]
  },
  {
   "cell_type": "code",
   "execution_count": null,
   "metadata": {},
   "outputs": [],
   "source": [
    "b = X_transfomed_nn[1][:, 0]"
   ]
  },
  {
   "cell_type": "code",
   "execution_count": null,
   "metadata": {
    "scrolled": true
   },
   "outputs": [],
   "source": [
    "(a == b).sum() * 1. / len(a)"
   ]
  },
  {
   "cell_type": "code",
   "execution_count": null,
   "metadata": {},
   "outputs": [],
   "source": [
    "X_train_transformed_tensor[0]"
   ]
  },
  {
   "cell_type": "code",
   "execution_count": null,
   "metadata": {},
   "outputs": [],
   "source": [
    "y = X_train_transformed_tensor[0]\n",
    "best_i = -1\n",
    "best_d = 1e8\n",
    "for i, x in enumerate(X_train_transformed_tensor[0:]):\n",
    "    d = ((x - y) ** 2).sum()\n",
    "    if d < best_d and d > 0:\n",
    "        best_d = d\n",
    "        best_i = i"
   ]
  },
  {
   "cell_type": "code",
   "execution_count": null,
   "metadata": {},
   "outputs": [],
   "source": [
    "best_i"
   ]
  },
  {
   "cell_type": "code",
   "execution_count": null,
   "metadata": {},
   "outputs": [],
   "source": [
    "a"
   ]
  },
  {
   "cell_type": "code",
   "execution_count": null,
   "metadata": {},
   "outputs": [],
   "source": [
    "b"
   ]
  },
  {
   "cell_type": "code",
   "execution_count": null,
   "metadata": {},
   "outputs": [],
   "source": [
    "len(a==b)"
   ]
  },
  {
   "cell_type": "code",
   "execution_count": null,
   "metadata": {},
   "outputs": [],
   "source": [
    "(a==b).sum()"
   ]
  },
  {
   "cell_type": "code",
   "execution_count": null,
   "metadata": {},
   "outputs": [],
   "source": []
  }
 ],
 "metadata": {
  "kernelspec": {
   "display_name": "Python 3",
   "language": "python",
   "name": "python3"
  },
  "language_info": {
   "codemirror_mode": {
    "name": "ipython",
    "version": 3
   },
   "file_extension": ".py",
   "mimetype": "text/x-python",
   "name": "python",
   "nbconvert_exporter": "python",
   "pygments_lexer": "ipython3",
   "version": "3.7.7"
  }
 },
 "nbformat": 4,
 "nbformat_minor": 4
}
